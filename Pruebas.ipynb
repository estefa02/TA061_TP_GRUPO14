{
 "cells": [
  {
   "cell_type": "markdown",
   "metadata": {},
   "source": [
    "# Predicciones del mejor modelo"
   ]
  },
  {
   "cell_type": "markdown",
   "metadata": {},
   "source": [
    "#### Prediccion para el 22-11-2024"
   ]
  },
  {
   "cell_type": "code",
   "execution_count": null,
   "metadata": {},
   "outputs": [
    {
     "name": "stdout",
     "output_type": "stream",
     "text": [
      "Predicción: El precio subirá mañana.\n",
      "Media jueves:\n",
      "96390.15\n",
      "Media viernes:\n",
      "0    98500.325\n",
      "Name: media, dtype: float64\n"
     ]
    }
   ],
   "source": [
    "import Predecir as p\n",
    "import pandas as pd\n",
    "\n",
    "def calcular_media(a,b,c,d):\n",
    "    sum = a+b+c+d\n",
    "    media = sum / 4\n",
    "    return media\n",
    "\n",
    "#Prediccion del modelo para el dia 22-11-2024\n",
    "p.predecir_btc(2024-11-21,94225.5,99048.2,93840.4,98446.5)\n",
    "#Data Jueves\n",
    "print('Media 21:')\n",
    "print(calcular_media(94225.5,99048.2,93840.4,98446.5))\n",
    "#Data viernes: \n",
    "print('Media 22:')\n",
    "print(calcular_media(98414.4,99667.7,97189.3,98729.9))\n"
   ]
  },
  {
   "cell_type": "markdown",
   "metadata": {},
   "source": [
    "#### Prediccion para el 23-11-24"
   ]
  },
  {
   "cell_type": "code",
   "execution_count": 11,
   "metadata": {},
   "outputs": [
    {
     "name": "stdout",
     "output_type": "stream",
     "text": [
      "Predicción: El precio subirá mañana.\n",
      "Media 22:\n",
      "98500.32499999998\n",
      "Media 23:\n",
      "98179.07500000001\n"
     ]
    }
   ],
   "source": [
    "#Prediccion del modelo para el dia 23-11-2024\n",
    "p.predecir_btc(2024-11-22,98414.4,99667.7,97189.3,98729.9)\n",
    "\n",
    "print('Media 22:')\n",
    "print(calcular_media(98414.4,99667.7,97189.3,98729.9))\n",
    "\n",
    "print('Media 23:')\n",
    "print(calcular_media(98737.0,99009.7,97232.2,97737.4))"
   ]
  },
  {
   "cell_type": "markdown",
   "metadata": {},
   "source": [
    "#### Prediccion para el 24-11-24"
   ]
  },
  {
   "cell_type": "code",
   "execution_count": 12,
   "metadata": {},
   "outputs": [
    {
     "name": "stdout",
     "output_type": "stream",
     "text": [
      "Predicción: El precio bajará mañana.\n",
      "Media 23:\n",
      "98179.07500000001\n",
      "Media 24:\n",
      "1.0\n"
     ]
    }
   ],
   "source": [
    "#Prediccion del modelo para el dia 24-11-2024\n",
    "p.predecir_btc(2024-11-23,98737.0,99009.7,97232.2,97737.4)\n",
    "\n",
    "print('Media 23:')\n",
    "print(calcular_media(98737.0,99009.7,97232.2,97737.4))\n",
    "\n",
    "print('Media 24:')\n",
    "print(calcular_media(1,1,1,1))"
   ]
  }
 ],
 "metadata": {
  "kernelspec": {
   "display_name": "Python 3",
   "language": "python",
   "name": "python3"
  },
  "language_info": {
   "codemirror_mode": {
    "name": "ipython",
    "version": 3
   },
   "file_extension": ".py",
   "mimetype": "text/x-python",
   "name": "python",
   "nbconvert_exporter": "python",
   "pygments_lexer": "ipython3",
   "version": "3.10.12"
  }
 },
 "nbformat": 4,
 "nbformat_minor": 2
}
