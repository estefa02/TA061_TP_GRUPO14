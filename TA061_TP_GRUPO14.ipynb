{
 "cells": [
  {
   "cell_type": "markdown",
   "metadata": {},
   "source": [
    "# <center>Aprendizaje Automatico</center>\n",
    "### <center>Valor Cryptomonedas (Bitcoin, Raydium) TP: Grupo N°14 </center>\n",
    "\n",
    "### <center>Integrantes:</center>\n",
    "## <center>Lisandro Roman</center>\n",
    "## <center>Estefano Polizzi</center>"
   ]
  },
  {
   "cell_type": "markdown",
   "metadata": {},
   "source": [
    "#### Trabajamos con Bitcoin una cryptomoneda con mucha historia y cantidad de información."
   ]
  },
  {
   "cell_type": "markdown",
   "metadata": {},
   "source": [
    "## Importamos librerias y abrimos dataset"
   ]
  },
  {
   "cell_type": "code",
   "execution_count": 162,
   "metadata": {},
   "outputs": [],
   "source": [
    "#Manipulacion de datos y funciones matemáticas\n",
    "import pandas as pd\n",
    "import numpy as np\n",
    "\n",
    "#Visualizaciones\n",
    "import seaborn as sns\n",
    "import matplotlib.pyplot as plt\n",
    "from autoviz.AutoViz_Class import AutoViz_Class\n",
    "\n",
    "\n",
    "#modelos y métricas\n",
    "from sklearn.model_selection import train_test_split\n",
    "from sklearn.metrics import precision_score, recall_score, accuracy_score,f1_score\n",
    "from sklearn.metrics import confusion_matrix\n",
    "from sklearn.metrics import make_scorer\n",
    "\n",
    "#Metricas para evaluar modelos\n",
    "from sklearn.model_selection import StratifiedKFold\n",
    "from sklearn.model_selection import RandomizedSearchCV\n",
    "\n",
    "#Modelos Support Vector Machine, Random Forest, XGBoost, LSTM (Long Short-Term Memory)\n",
    "from sklearn.svm import SVC\n",
    "from sklearn.ensemble import RandomForestClassifier\n",
    "from xgboost import XGBClassifier\n",
    "from tensorflow.keras.models import Sequential\n",
    "from tensorflow.keras.layers import LSTM, Dense, Dropout\n",
    "\n",
    "#Importamos datasets\n",
    "data_btc = pd.read_csv('./datasets/BTC.csv')"
   ]
  },
  {
   "cell_type": "markdown",
   "metadata": {},
   "source": [
    "## Preprocesamiento del dataset"
   ]
  },
  {
   "cell_type": "code",
   "execution_count": 163,
   "metadata": {},
   "outputs": [
    {
     "name": "stdout",
     "output_type": "stream",
     "text": [
      "Shape of your Data Set loaded: (5242, 6)\n",
      "#######################################################################################\n",
      "######################## C L A S S I F Y I N G  V A R I A B L E S  ####################\n",
      "#######################################################################################\n",
      "Classifying variables in data set...\n",
      "    Number of Numeric Columns =  4\n",
      "    Number of Integer-Categorical Columns =  0\n",
      "    Number of String-Categorical Columns =  0\n",
      "    Number of Factor-Categorical Columns =  0\n",
      "    Number of String-Boolean Columns =  0\n",
      "    Number of Numeric-Boolean Columns =  0\n",
      "    Number of Discrete String Columns =  0\n",
      "    Number of NLP String Columns =  0\n",
      "    Number of Date Time Columns =  0\n",
      "    Number of ID Columns =  1\n",
      "    Number of Columns to Delete =  1\n",
      "    6 Predictors classified...\n",
      "        2 variable(s) removed since they were ID or low-information variables\n",
      "        List of variables removed: ['date', 'ticker']\n",
      "To fix these data quality issues in the dataset, import FixDQ from autoviz...\n",
      "    All variables classified into correct types.\n"
     ]
    },
    {
     "data": {
      "text/html": [
       "<style type=\"text/css\">\n",
       "#T_9a7da_row0_col0, #T_9a7da_row0_col2, #T_9a7da_row0_col3, #T_9a7da_row0_col4, #T_9a7da_row0_col5, #T_9a7da_row1_col0, #T_9a7da_row1_col2, #T_9a7da_row1_col3, #T_9a7da_row1_col4, #T_9a7da_row1_col5, #T_9a7da_row2_col0, #T_9a7da_row2_col2, #T_9a7da_row2_col3, #T_9a7da_row2_col4, #T_9a7da_row2_col5, #T_9a7da_row3_col0, #T_9a7da_row3_col2, #T_9a7da_row3_col3, #T_9a7da_row3_col4, #T_9a7da_row3_col5, #T_9a7da_row4_col0, #T_9a7da_row4_col2, #T_9a7da_row4_col3, #T_9a7da_row4_col4, #T_9a7da_row4_col5, #T_9a7da_row5_col0, #T_9a7da_row5_col2, #T_9a7da_row5_col3, #T_9a7da_row5_col4, #T_9a7da_row5_col5 {\n",
       "  font-family: Segoe UI;\n",
       "}\n",
       "#T_9a7da_row0_col1, #T_9a7da_row1_col1, #T_9a7da_row2_col1, #T_9a7da_row3_col1, #T_9a7da_row4_col1, #T_9a7da_row5_col1 {\n",
       "  background-color: #fff5f0;\n",
       "  color: #000000;\n",
       "  font-family: Segoe UI;\n",
       "}\n",
       "</style>\n",
       "<table id=\"T_9a7da\">\n",
       "  <thead>\n",
       "    <tr>\n",
       "      <th class=\"blank level0\" >&nbsp;</th>\n",
       "      <th id=\"T_9a7da_level0_col0\" class=\"col_heading level0 col0\" >Data Type</th>\n",
       "      <th id=\"T_9a7da_level0_col1\" class=\"col_heading level0 col1\" >Missing Values%</th>\n",
       "      <th id=\"T_9a7da_level0_col2\" class=\"col_heading level0 col2\" >Unique Values%</th>\n",
       "      <th id=\"T_9a7da_level0_col3\" class=\"col_heading level0 col3\" >Minimum Value</th>\n",
       "      <th id=\"T_9a7da_level0_col4\" class=\"col_heading level0 col4\" >Maximum Value</th>\n",
       "      <th id=\"T_9a7da_level0_col5\" class=\"col_heading level0 col5\" >DQ Issue</th>\n",
       "    </tr>\n",
       "  </thead>\n",
       "  <tbody>\n",
       "    <tr>\n",
       "      <th id=\"T_9a7da_level0_row0\" class=\"row_heading level0 row0\" >ticker</th>\n",
       "      <td id=\"T_9a7da_row0_col0\" class=\"data row0 col0\" >object</td>\n",
       "      <td id=\"T_9a7da_row0_col1\" class=\"data row0 col1\" >0.000000</td>\n",
       "      <td id=\"T_9a7da_row0_col2\" class=\"data row0 col2\" >0</td>\n",
       "      <td id=\"T_9a7da_row0_col3\" class=\"data row0 col3\" ></td>\n",
       "      <td id=\"T_9a7da_row0_col4\" class=\"data row0 col4\" ></td>\n",
       "      <td id=\"T_9a7da_row0_col5\" class=\"data row0 col5\" >Possible Zero-variance or low information colum: drop before modeling step.</td>\n",
       "    </tr>\n",
       "    <tr>\n",
       "      <th id=\"T_9a7da_level0_row1\" class=\"row_heading level0 row1\" >date</th>\n",
       "      <td id=\"T_9a7da_row1_col0\" class=\"data row1 col0\" >object</td>\n",
       "      <td id=\"T_9a7da_row1_col1\" class=\"data row1 col1\" >0.000000</td>\n",
       "      <td id=\"T_9a7da_row1_col2\" class=\"data row1 col2\" >100</td>\n",
       "      <td id=\"T_9a7da_row1_col3\" class=\"data row1 col3\" ></td>\n",
       "      <td id=\"T_9a7da_row1_col4\" class=\"data row1 col4\" ></td>\n",
       "      <td id=\"T_9a7da_row1_col5\" class=\"data row1 col5\" >Possible ID column: drop before modeling step.</td>\n",
       "    </tr>\n",
       "    <tr>\n",
       "      <th id=\"T_9a7da_level0_row2\" class=\"row_heading level0 row2\" >open</th>\n",
       "      <td id=\"T_9a7da_row2_col0\" class=\"data row2 col0\" >float64</td>\n",
       "      <td id=\"T_9a7da_row2_col1\" class=\"data row2 col1\" >0.000000</td>\n",
       "      <td id=\"T_9a7da_row2_col2\" class=\"data row2 col2\" >NA</td>\n",
       "      <td id=\"T_9a7da_row2_col3\" class=\"data row2 col3\" >0.049510</td>\n",
       "      <td id=\"T_9a7da_row2_col4\" class=\"data row2 col4\" >94225.500000</td>\n",
       "      <td id=\"T_9a7da_row2_col5\" class=\"data row2 col5\" >Column has 429 outliers greater than upper bound (49837.67) or lower than lower bound(-29525.99). Cap them or remove them.</td>\n",
       "    </tr>\n",
       "    <tr>\n",
       "      <th id=\"T_9a7da_level0_row3\" class=\"row_heading level0 row3\" >high</th>\n",
       "      <td id=\"T_9a7da_row3_col0\" class=\"data row3 col0\" >float64</td>\n",
       "      <td id=\"T_9a7da_row3_col1\" class=\"data row3 col1\" >0.000000</td>\n",
       "      <td id=\"T_9a7da_row3_col2\" class=\"data row3 col2\" >NA</td>\n",
       "      <td id=\"T_9a7da_row3_col3\" class=\"data row3 col3\" >0.049510</td>\n",
       "      <td id=\"T_9a7da_row3_col4\" class=\"data row3 col4\" >99048.200000</td>\n",
       "      <td id=\"T_9a7da_row3_col5\" class=\"data row3 col5\" >Column has 436 outliers greater than upper bound (50845.71) or lower than lower bound(-30124.66). Cap them or remove them., Column has a high correlation with ['open']. Consider dropping one of them.</td>\n",
       "    </tr>\n",
       "    <tr>\n",
       "      <th id=\"T_9a7da_level0_row4\" class=\"row_heading level0 row4\" >low</th>\n",
       "      <td id=\"T_9a7da_row4_col0\" class=\"data row4 col0\" >float64</td>\n",
       "      <td id=\"T_9a7da_row4_col1\" class=\"data row4 col1\" >0.000000</td>\n",
       "      <td id=\"T_9a7da_row4_col2\" class=\"data row4 col2\" >NA</td>\n",
       "      <td id=\"T_9a7da_row4_col3\" class=\"data row4 col3\" >0.010000</td>\n",
       "      <td id=\"T_9a7da_row4_col4\" class=\"data row4 col4\" >93840.400000</td>\n",
       "      <td id=\"T_9a7da_row4_col5\" class=\"data row4 col5\" >Column has 419 outliers greater than upper bound (48691.16) or lower than lower bound(-28844.61). Cap them or remove them., Column has a high correlation with ['open', 'high']. Consider dropping one of them.</td>\n",
       "    </tr>\n",
       "    <tr>\n",
       "      <th id=\"T_9a7da_level0_row5\" class=\"row_heading level0 row5\" >close</th>\n",
       "      <td id=\"T_9a7da_row5_col0\" class=\"data row5 col0\" >float64</td>\n",
       "      <td id=\"T_9a7da_row5_col1\" class=\"data row5 col1\" >0.000000</td>\n",
       "      <td id=\"T_9a7da_row5_col2\" class=\"data row5 col2\" >NA</td>\n",
       "      <td id=\"T_9a7da_row5_col3\" class=\"data row5 col3\" >0.049510</td>\n",
       "      <td id=\"T_9a7da_row5_col4\" class=\"data row5 col4\" >98446.500000</td>\n",
       "      <td id=\"T_9a7da_row5_col5\" class=\"data row5 col5\" >Column has 429 outliers greater than upper bound (49901.64) or lower than lower bound(-29564.26). Cap them or remove them., Column has a high correlation with ['open', 'high', 'low']. Consider dropping one of them.</td>\n",
       "    </tr>\n",
       "  </tbody>\n",
       "</table>\n"
      ],
      "text/plain": [
       "<pandas.io.formats.style.Styler at 0x7f40984e4220>"
      ]
     },
     "metadata": {},
     "output_type": "display_data"
    },
    {
     "name": "stdout",
     "output_type": "stream",
     "text": [
      "Number of All Scatter Plots = 10\n",
      "All Plots done\n",
      "Time to run AutoViz = 1 seconds \n",
      "\n",
      " ###################### AUTO VISUALIZATION Completed ########################\n"
     ]
    },
    {
     "data": {
      "text/html": [
       "<div>\n",
       "<style scoped>\n",
       "    .dataframe tbody tr th:only-of-type {\n",
       "        vertical-align: middle;\n",
       "    }\n",
       "\n",
       "    .dataframe tbody tr th {\n",
       "        vertical-align: top;\n",
       "    }\n",
       "\n",
       "    .dataframe thead th {\n",
       "        text-align: right;\n",
       "    }\n",
       "</style>\n",
       "<table border=\"1\" class=\"dataframe\">\n",
       "  <thead>\n",
       "    <tr style=\"text-align: center;\">\n",
       "      <th></th>\n",
       "      <th>ticker</th>\n",
       "      <th>date</th>\n",
       "      <th>open</th>\n",
       "      <th>high</th>\n",
       "      <th>low</th>\n",
       "      <th>close</th>\n",
       "    </tr>\n",
       "  </thead>\n",
       "  <tbody>\n",
       "    <tr>\n",
       "      <th>0</th>\n",
       "      <td>BTC</td>\n",
       "      <td>2010-07-17</td>\n",
       "      <td>0.04951</td>\n",
       "      <td>0.04951</td>\n",
       "      <td>0.04951</td>\n",
       "      <td>0.04951</td>\n",
       "    </tr>\n",
       "    <tr>\n",
       "      <th>1</th>\n",
       "      <td>BTC</td>\n",
       "      <td>2010-07-18</td>\n",
       "      <td>0.04951</td>\n",
       "      <td>0.08585</td>\n",
       "      <td>0.04951</td>\n",
       "      <td>0.08584</td>\n",
       "    </tr>\n",
       "    <tr>\n",
       "      <th>2</th>\n",
       "      <td>BTC</td>\n",
       "      <td>2010-07-19</td>\n",
       "      <td>0.08584</td>\n",
       "      <td>0.09307</td>\n",
       "      <td>0.07723</td>\n",
       "      <td>0.08080</td>\n",
       "    </tr>\n",
       "    <tr>\n",
       "      <th>3</th>\n",
       "      <td>BTC</td>\n",
       "      <td>2010-07-20</td>\n",
       "      <td>0.08080</td>\n",
       "      <td>0.08181</td>\n",
       "      <td>0.07426</td>\n",
       "      <td>0.07474</td>\n",
       "    </tr>\n",
       "    <tr>\n",
       "      <th>4</th>\n",
       "      <td>BTC</td>\n",
       "      <td>2010-07-21</td>\n",
       "      <td>0.07474</td>\n",
       "      <td>0.07921</td>\n",
       "      <td>0.06634</td>\n",
       "      <td>0.07921</td>\n",
       "    </tr>\n",
       "    <tr>\n",
       "      <th>...</th>\n",
       "      <td>...</td>\n",
       "      <td>...</td>\n",
       "      <td>...</td>\n",
       "      <td>...</td>\n",
       "      <td>...</td>\n",
       "      <td>...</td>\n",
       "    </tr>\n",
       "    <tr>\n",
       "      <th>5237</th>\n",
       "      <td>BTC</td>\n",
       "      <td>2024-11-17</td>\n",
       "      <td>90360.00000</td>\n",
       "      <td>91438.10000</td>\n",
       "      <td>88722.00000</td>\n",
       "      <td>89567.60000</td>\n",
       "    </tr>\n",
       "    <tr>\n",
       "      <th>5238</th>\n",
       "      <td>BTC</td>\n",
       "      <td>2024-11-18</td>\n",
       "      <td>89559.60000</td>\n",
       "      <td>92601.60000</td>\n",
       "      <td>89336.60000</td>\n",
       "      <td>91230.00000</td>\n",
       "    </tr>\n",
       "    <tr>\n",
       "      <th>5239</th>\n",
       "      <td>BTC</td>\n",
       "      <td>2024-11-19</td>\n",
       "      <td>91230.00000</td>\n",
       "      <td>94015.00000</td>\n",
       "      <td>90298.30000</td>\n",
       "      <td>91941.90000</td>\n",
       "    </tr>\n",
       "    <tr>\n",
       "      <th>5240</th>\n",
       "      <td>BTC</td>\n",
       "      <td>2024-11-20</td>\n",
       "      <td>91926.30000</td>\n",
       "      <td>94904.00000</td>\n",
       "      <td>91630.90000</td>\n",
       "      <td>94225.50000</td>\n",
       "    </tr>\n",
       "    <tr>\n",
       "      <th>5241</th>\n",
       "      <td>BTC</td>\n",
       "      <td>2024-11-21</td>\n",
       "      <td>94225.50000</td>\n",
       "      <td>99048.20000</td>\n",
       "      <td>93840.40000</td>\n",
       "      <td>98446.50000</td>\n",
       "    </tr>\n",
       "  </tbody>\n",
       "</table>\n",
       "<p>5242 rows × 6 columns</p>\n",
       "</div>"
      ],
      "text/plain": [
       "     ticker     date        open         high          low         close   \n",
       "0      BTC   2010-07-17      0.04951      0.04951      0.04951      0.04951\n",
       "1      BTC   2010-07-18      0.04951      0.08585      0.04951      0.08584\n",
       "2      BTC   2010-07-19      0.08584      0.09307      0.07723      0.08080\n",
       "3      BTC   2010-07-20      0.08080      0.08181      0.07426      0.07474\n",
       "4      BTC   2010-07-21      0.07474      0.07921      0.06634      0.07921\n",
       "...     ...         ...          ...          ...          ...          ...\n",
       "5237   BTC   2024-11-17  90360.00000  91438.10000  88722.00000  89567.60000\n",
       "5238   BTC   2024-11-18  89559.60000  92601.60000  89336.60000  91230.00000\n",
       "5239   BTC   2024-11-19  91230.00000  94015.00000  90298.30000  91941.90000\n",
       "5240   BTC   2024-11-20  91926.30000  94904.00000  91630.90000  94225.50000\n",
       "5241   BTC   2024-11-21  94225.50000  99048.20000  93840.40000  98446.50000\n",
       "\n",
       "[5242 rows x 6 columns]"
      ]
     },
     "execution_count": 163,
     "metadata": {},
     "output_type": "execute_result"
    }
   ],
   "source": [
    "#Observamos los tipos de dato con AutoViz\n",
    "AV = AutoViz_Class()\n",
    "\n",
    "AV.AutoViz('./datasets/BTC.csv')"
   ]
  },
  {
   "cell_type": "markdown",
   "metadata": {},
   "source": [
    "Agregamos la media"
   ]
  },
  {
   "cell_type": "code",
   "execution_count": 164,
   "metadata": {},
   "outputs": [
    {
     "data": {
      "text/html": [
       "<div>\n",
       "<style scoped>\n",
       "    .dataframe tbody tr th:only-of-type {\n",
       "        vertical-align: middle;\n",
       "    }\n",
       "\n",
       "    .dataframe tbody tr th {\n",
       "        vertical-align: top;\n",
       "    }\n",
       "\n",
       "    .dataframe thead th {\n",
       "        text-align: right;\n",
       "    }\n",
       "</style>\n",
       "<table border=\"1\" class=\"dataframe\">\n",
       "  <thead>\n",
       "    <tr style=\"text-align: center;\">\n",
       "      <th></th>\n",
       "      <th>ticker</th>\n",
       "      <th>date</th>\n",
       "      <th>open</th>\n",
       "      <th>high</th>\n",
       "      <th>low</th>\n",
       "      <th>close</th>\n",
       "      <th>mean_day</th>\n",
       "    </tr>\n",
       "  </thead>\n",
       "  <tbody>\n",
       "    <tr>\n",
       "      <th>0</th>\n",
       "      <td>BTC</td>\n",
       "      <td>2010-07-17</td>\n",
       "      <td>0.04951</td>\n",
       "      <td>0.04951</td>\n",
       "      <td>0.04951</td>\n",
       "      <td>0.04951</td>\n",
       "      <td>0.049510</td>\n",
       "    </tr>\n",
       "    <tr>\n",
       "      <th>1</th>\n",
       "      <td>BTC</td>\n",
       "      <td>2010-07-18</td>\n",
       "      <td>0.04951</td>\n",
       "      <td>0.08585</td>\n",
       "      <td>0.04951</td>\n",
       "      <td>0.08584</td>\n",
       "      <td>0.067678</td>\n",
       "    </tr>\n",
       "    <tr>\n",
       "      <th>2</th>\n",
       "      <td>BTC</td>\n",
       "      <td>2010-07-19</td>\n",
       "      <td>0.08584</td>\n",
       "      <td>0.09307</td>\n",
       "      <td>0.07723</td>\n",
       "      <td>0.08080</td>\n",
       "      <td>0.084235</td>\n",
       "    </tr>\n",
       "    <tr>\n",
       "      <th>3</th>\n",
       "      <td>BTC</td>\n",
       "      <td>2010-07-20</td>\n",
       "      <td>0.08080</td>\n",
       "      <td>0.08181</td>\n",
       "      <td>0.07426</td>\n",
       "      <td>0.07474</td>\n",
       "      <td>0.077902</td>\n",
       "    </tr>\n",
       "    <tr>\n",
       "      <th>4</th>\n",
       "      <td>BTC</td>\n",
       "      <td>2010-07-21</td>\n",
       "      <td>0.07474</td>\n",
       "      <td>0.07921</td>\n",
       "      <td>0.06634</td>\n",
       "      <td>0.07921</td>\n",
       "      <td>0.074875</td>\n",
       "    </tr>\n",
       "  </tbody>\n",
       "</table>\n",
       "</div>"
      ],
      "text/plain": [
       "  ticker     date      open     high      low     close   mean_day\n",
       "0   BTC   2010-07-17  0.04951  0.04951  0.04951  0.04951  0.049510\n",
       "1   BTC   2010-07-18  0.04951  0.08585  0.04951  0.08584  0.067678\n",
       "2   BTC   2010-07-19  0.08584  0.09307  0.07723  0.08080  0.084235\n",
       "3   BTC   2010-07-20  0.08080  0.08181  0.07426  0.07474  0.077902\n",
       "4   BTC   2010-07-21  0.07474  0.07921  0.06634  0.07921  0.074875"
      ]
     },
     "execution_count": 164,
     "metadata": {},
     "output_type": "execute_result"
    }
   ],
   "source": [
    "def agregar_media(df):\n",
    "    df['mean_day'] = df[['open', 'high', 'low', 'close']].mean(axis=1)\n",
    "    return df\n",
    "\n",
    "data_btc = agregar_media(data_btc)\n",
    "\n",
    "data_btc.head()"
   ]
  },
  {
   "cell_type": "markdown",
   "metadata": {},
   "source": [
    "Agregamos target binario según valor la media del dia anterior y siguiente para saber si sube o baja su valor al proximo dia"
   ]
  },
  {
   "cell_type": "code",
   "execution_count": 165,
   "metadata": {},
   "outputs": [
    {
     "data": {
      "text/html": [
       "<div>\n",
       "<style scoped>\n",
       "    .dataframe tbody tr th:only-of-type {\n",
       "        vertical-align: middle;\n",
       "    }\n",
       "\n",
       "    .dataframe tbody tr th {\n",
       "        vertical-align: top;\n",
       "    }\n",
       "\n",
       "    .dataframe thead th {\n",
       "        text-align: right;\n",
       "    }\n",
       "</style>\n",
       "<table border=\"1\" class=\"dataframe\">\n",
       "  <thead>\n",
       "    <tr style=\"text-align: center;\">\n",
       "      <th></th>\n",
       "      <th>ticker</th>\n",
       "      <th>date</th>\n",
       "      <th>open</th>\n",
       "      <th>high</th>\n",
       "      <th>low</th>\n",
       "      <th>close</th>\n",
       "      <th>mean_day</th>\n",
       "      <th>target</th>\n",
       "    </tr>\n",
       "  </thead>\n",
       "  <tbody>\n",
       "    <tr>\n",
       "      <th>0</th>\n",
       "      <td>BTC</td>\n",
       "      <td>2010-07-17</td>\n",
       "      <td>0.04951</td>\n",
       "      <td>0.04951</td>\n",
       "      <td>0.04951</td>\n",
       "      <td>0.04951</td>\n",
       "      <td>0.049510</td>\n",
       "      <td>0</td>\n",
       "    </tr>\n",
       "    <tr>\n",
       "      <th>1</th>\n",
       "      <td>BTC</td>\n",
       "      <td>2010-07-18</td>\n",
       "      <td>0.04951</td>\n",
       "      <td>0.08585</td>\n",
       "      <td>0.04951</td>\n",
       "      <td>0.08584</td>\n",
       "      <td>0.067678</td>\n",
       "      <td>1</td>\n",
       "    </tr>\n",
       "    <tr>\n",
       "      <th>2</th>\n",
       "      <td>BTC</td>\n",
       "      <td>2010-07-19</td>\n",
       "      <td>0.08584</td>\n",
       "      <td>0.09307</td>\n",
       "      <td>0.07723</td>\n",
       "      <td>0.08080</td>\n",
       "      <td>0.084235</td>\n",
       "      <td>1</td>\n",
       "    </tr>\n",
       "    <tr>\n",
       "      <th>3</th>\n",
       "      <td>BTC</td>\n",
       "      <td>2010-07-20</td>\n",
       "      <td>0.08080</td>\n",
       "      <td>0.08181</td>\n",
       "      <td>0.07426</td>\n",
       "      <td>0.07474</td>\n",
       "      <td>0.077902</td>\n",
       "      <td>0</td>\n",
       "    </tr>\n",
       "    <tr>\n",
       "      <th>4</th>\n",
       "      <td>BTC</td>\n",
       "      <td>2010-07-21</td>\n",
       "      <td>0.07474</td>\n",
       "      <td>0.07921</td>\n",
       "      <td>0.06634</td>\n",
       "      <td>0.07921</td>\n",
       "      <td>0.074875</td>\n",
       "      <td>0</td>\n",
       "    </tr>\n",
       "    <tr>\n",
       "      <th>5</th>\n",
       "      <td>BTC</td>\n",
       "      <td>2010-07-22</td>\n",
       "      <td>0.07921</td>\n",
       "      <td>0.08181</td>\n",
       "      <td>0.05050</td>\n",
       "      <td>0.05050</td>\n",
       "      <td>0.065505</td>\n",
       "      <td>0</td>\n",
       "    </tr>\n",
       "    <tr>\n",
       "      <th>6</th>\n",
       "      <td>BTC</td>\n",
       "      <td>2010-07-23</td>\n",
       "      <td>0.05050</td>\n",
       "      <td>0.06767</td>\n",
       "      <td>0.05050</td>\n",
       "      <td>0.06262</td>\n",
       "      <td>0.057822</td>\n",
       "      <td>0</td>\n",
       "    </tr>\n",
       "    <tr>\n",
       "      <th>7</th>\n",
       "      <td>BTC</td>\n",
       "      <td>2010-07-24</td>\n",
       "      <td>0.06262</td>\n",
       "      <td>0.06262</td>\n",
       "      <td>0.05049</td>\n",
       "      <td>0.05454</td>\n",
       "      <td>0.057568</td>\n",
       "      <td>0</td>\n",
       "    </tr>\n",
       "    <tr>\n",
       "      <th>8</th>\n",
       "      <td>BTC</td>\n",
       "      <td>2010-07-25</td>\n",
       "      <td>0.05454</td>\n",
       "      <td>0.05941</td>\n",
       "      <td>0.05050</td>\n",
       "      <td>0.05050</td>\n",
       "      <td>0.053737</td>\n",
       "      <td>0</td>\n",
       "    </tr>\n",
       "    <tr>\n",
       "      <th>9</th>\n",
       "      <td>BTC</td>\n",
       "      <td>2010-07-26</td>\n",
       "      <td>0.05050</td>\n",
       "      <td>0.05600</td>\n",
       "      <td>0.05000</td>\n",
       "      <td>0.05600</td>\n",
       "      <td>0.053125</td>\n",
       "      <td>0</td>\n",
       "    </tr>\n",
       "    <tr>\n",
       "      <th>10</th>\n",
       "      <td>BTC</td>\n",
       "      <td>2010-07-27</td>\n",
       "      <td>0.05600</td>\n",
       "      <td>0.06050</td>\n",
       "      <td>0.05300</td>\n",
       "      <td>0.06000</td>\n",
       "      <td>0.057375</td>\n",
       "      <td>1</td>\n",
       "    </tr>\n",
       "    <tr>\n",
       "      <th>11</th>\n",
       "      <td>BTC</td>\n",
       "      <td>2010-07-28</td>\n",
       "      <td>0.06000</td>\n",
       "      <td>0.06200</td>\n",
       "      <td>0.05400</td>\n",
       "      <td>0.05890</td>\n",
       "      <td>0.058725</td>\n",
       "      <td>1</td>\n",
       "    </tr>\n",
       "    <tr>\n",
       "      <th>12</th>\n",
       "      <td>BTC</td>\n",
       "      <td>2010-07-29</td>\n",
       "      <td>0.05890</td>\n",
       "      <td>0.06990</td>\n",
       "      <td>0.05710</td>\n",
       "      <td>0.06990</td>\n",
       "      <td>0.063950</td>\n",
       "      <td>1</td>\n",
       "    </tr>\n",
       "    <tr>\n",
       "      <th>13</th>\n",
       "      <td>BTC</td>\n",
       "      <td>2010-07-30</td>\n",
       "      <td>0.06990</td>\n",
       "      <td>0.06990</td>\n",
       "      <td>0.05820</td>\n",
       "      <td>0.06270</td>\n",
       "      <td>0.065175</td>\n",
       "      <td>1</td>\n",
       "    </tr>\n",
       "    <tr>\n",
       "      <th>14</th>\n",
       "      <td>BTC</td>\n",
       "      <td>2010-07-31</td>\n",
       "      <td>0.06270</td>\n",
       "      <td>0.06889</td>\n",
       "      <td>0.05600</td>\n",
       "      <td>0.06785</td>\n",
       "      <td>0.063860</td>\n",
       "      <td>0</td>\n",
       "    </tr>\n",
       "    <tr>\n",
       "      <th>15</th>\n",
       "      <td>BTC</td>\n",
       "      <td>2010-08-01</td>\n",
       "      <td>0.06785</td>\n",
       "      <td>0.06785</td>\n",
       "      <td>0.06000</td>\n",
       "      <td>0.06110</td>\n",
       "      <td>0.064200</td>\n",
       "      <td>1</td>\n",
       "    </tr>\n",
       "    <tr>\n",
       "      <th>16</th>\n",
       "      <td>BTC</td>\n",
       "      <td>2010-08-02</td>\n",
       "      <td>0.06110</td>\n",
       "      <td>0.06330</td>\n",
       "      <td>0.06000</td>\n",
       "      <td>0.06000</td>\n",
       "      <td>0.061100</td>\n",
       "      <td>0</td>\n",
       "    </tr>\n",
       "    <tr>\n",
       "      <th>17</th>\n",
       "      <td>BTC</td>\n",
       "      <td>2010-08-03</td>\n",
       "      <td>0.06000</td>\n",
       "      <td>0.06500</td>\n",
       "      <td>0.05900</td>\n",
       "      <td>0.06000</td>\n",
       "      <td>0.061000</td>\n",
       "      <td>0</td>\n",
       "    </tr>\n",
       "    <tr>\n",
       "      <th>18</th>\n",
       "      <td>BTC</td>\n",
       "      <td>2010-08-04</td>\n",
       "      <td>0.06000</td>\n",
       "      <td>0.06231</td>\n",
       "      <td>0.05700</td>\n",
       "      <td>0.05700</td>\n",
       "      <td>0.059077</td>\n",
       "      <td>0</td>\n",
       "    </tr>\n",
       "    <tr>\n",
       "      <th>19</th>\n",
       "      <td>BTC</td>\n",
       "      <td>2010-08-05</td>\n",
       "      <td>0.05700</td>\n",
       "      <td>0.06100</td>\n",
       "      <td>0.05700</td>\n",
       "      <td>0.06100</td>\n",
       "      <td>0.059000</td>\n",
       "      <td>0</td>\n",
       "    </tr>\n",
       "  </tbody>\n",
       "</table>\n",
       "</div>"
      ],
      "text/plain": [
       "   ticker    date      open     high      low     close   mean_day  target\n",
       "0    BTC  2010-07-17  0.04951  0.04951  0.04951  0.04951  0.049510     0  \n",
       "1    BTC  2010-07-18  0.04951  0.08585  0.04951  0.08584  0.067678     1  \n",
       "2    BTC  2010-07-19  0.08584  0.09307  0.07723  0.08080  0.084235     1  \n",
       "3    BTC  2010-07-20  0.08080  0.08181  0.07426  0.07474  0.077902     0  \n",
       "4    BTC  2010-07-21  0.07474  0.07921  0.06634  0.07921  0.074875     0  \n",
       "5    BTC  2010-07-22  0.07921  0.08181  0.05050  0.05050  0.065505     0  \n",
       "6    BTC  2010-07-23  0.05050  0.06767  0.05050  0.06262  0.057822     0  \n",
       "7    BTC  2010-07-24  0.06262  0.06262  0.05049  0.05454  0.057568     0  \n",
       "8    BTC  2010-07-25  0.05454  0.05941  0.05050  0.05050  0.053737     0  \n",
       "9    BTC  2010-07-26  0.05050  0.05600  0.05000  0.05600  0.053125     0  \n",
       "10   BTC  2010-07-27  0.05600  0.06050  0.05300  0.06000  0.057375     1  \n",
       "11   BTC  2010-07-28  0.06000  0.06200  0.05400  0.05890  0.058725     1  \n",
       "12   BTC  2010-07-29  0.05890  0.06990  0.05710  0.06990  0.063950     1  \n",
       "13   BTC  2010-07-30  0.06990  0.06990  0.05820  0.06270  0.065175     1  \n",
       "14   BTC  2010-07-31  0.06270  0.06889  0.05600  0.06785  0.063860     0  \n",
       "15   BTC  2010-08-01  0.06785  0.06785  0.06000  0.06110  0.064200     1  \n",
       "16   BTC  2010-08-02  0.06110  0.06330  0.06000  0.06000  0.061100     0  \n",
       "17   BTC  2010-08-03  0.06000  0.06500  0.05900  0.06000  0.061000     0  \n",
       "18   BTC  2010-08-04  0.06000  0.06231  0.05700  0.05700  0.059077     0  \n",
       "19   BTC  2010-08-05  0.05700  0.06100  0.05700  0.06100  0.059000     0  "
      ]
     },
     "execution_count": 165,
     "metadata": {},
     "output_type": "execute_result"
    }
   ],
   "source": [
    "# Convertir la fecha a formato datetime por si hace falta\n",
    "data_btc['date'] = pd.to_datetime(data_btc['date'])\n",
    "\n",
    "# Calcular el target basado en la media del día anterior\n",
    "data_btc['target'] = (data_btc['mean_day'] > data_btc['mean_day'].shift(1)).astype(int)\n",
    "\n",
    "data_btc.head(20)"
   ]
  },
  {
   "cell_type": "markdown",
   "metadata": {},
   "source": [
    "Agregamos una columna que represente la variación porcentual diaria"
   ]
  },
  {
   "cell_type": "code",
   "execution_count": 166,
   "metadata": {},
   "outputs": [],
   "source": [
    "data_btc['daily_variation'] = (data_btc['high'] - data_btc['low']) / data_btc['mean_day']\n",
    "\n",
    "# Clasificamos la variación diaria\n",
    "threshold = 0.1  # 10% de umbral, si varia mas del umbral es 1 porque hay alta variacion, 0 sino\n",
    "data_btc['variation_category'] = data_btc['daily_variation'].apply(\n",
    "    lambda x: 1 if x > threshold else 0\n",
    ")"
   ]
  },
  {
   "cell_type": "code",
   "execution_count": 167,
   "metadata": {},
   "outputs": [
    {
     "data": {
      "text/html": [
       "<div>\n",
       "<style scoped>\n",
       "    .dataframe tbody tr th:only-of-type {\n",
       "        vertical-align: middle;\n",
       "    }\n",
       "\n",
       "    .dataframe tbody tr th {\n",
       "        vertical-align: top;\n",
       "    }\n",
       "\n",
       "    .dataframe thead th {\n",
       "        text-align: right;\n",
       "    }\n",
       "</style>\n",
       "<table border=\"1\" class=\"dataframe\">\n",
       "  <thead>\n",
       "    <tr style=\"text-align: center;\">\n",
       "      <th></th>\n",
       "      <th>ticker</th>\n",
       "      <th>date</th>\n",
       "      <th>open</th>\n",
       "      <th>high</th>\n",
       "      <th>low</th>\n",
       "      <th>close</th>\n",
       "      <th>mean_day</th>\n",
       "      <th>target</th>\n",
       "      <th>daily_variation</th>\n",
       "      <th>variation_category</th>\n",
       "    </tr>\n",
       "  </thead>\n",
       "  <tbody>\n",
       "    <tr>\n",
       "      <th>0</th>\n",
       "      <td>BTC</td>\n",
       "      <td>2010-07-17</td>\n",
       "      <td>0.04951</td>\n",
       "      <td>0.04951</td>\n",
       "      <td>0.04951</td>\n",
       "      <td>0.04951</td>\n",
       "      <td>0.049510</td>\n",
       "      <td>0</td>\n",
       "      <td>0.000000</td>\n",
       "      <td>0</td>\n",
       "    </tr>\n",
       "    <tr>\n",
       "      <th>1</th>\n",
       "      <td>BTC</td>\n",
       "      <td>2010-07-18</td>\n",
       "      <td>0.04951</td>\n",
       "      <td>0.08585</td>\n",
       "      <td>0.04951</td>\n",
       "      <td>0.08584</td>\n",
       "      <td>0.067678</td>\n",
       "      <td>1</td>\n",
       "      <td>0.536958</td>\n",
       "      <td>1</td>\n",
       "    </tr>\n",
       "    <tr>\n",
       "      <th>2</th>\n",
       "      <td>BTC</td>\n",
       "      <td>2010-07-19</td>\n",
       "      <td>0.08584</td>\n",
       "      <td>0.09307</td>\n",
       "      <td>0.07723</td>\n",
       "      <td>0.08080</td>\n",
       "      <td>0.084235</td>\n",
       "      <td>1</td>\n",
       "      <td>0.188045</td>\n",
       "      <td>1</td>\n",
       "    </tr>\n",
       "    <tr>\n",
       "      <th>3</th>\n",
       "      <td>BTC</td>\n",
       "      <td>2010-07-20</td>\n",
       "      <td>0.08080</td>\n",
       "      <td>0.08181</td>\n",
       "      <td>0.07426</td>\n",
       "      <td>0.07474</td>\n",
       "      <td>0.077902</td>\n",
       "      <td>0</td>\n",
       "      <td>0.096916</td>\n",
       "      <td>0</td>\n",
       "    </tr>\n",
       "    <tr>\n",
       "      <th>4</th>\n",
       "      <td>BTC</td>\n",
       "      <td>2010-07-21</td>\n",
       "      <td>0.07474</td>\n",
       "      <td>0.07921</td>\n",
       "      <td>0.06634</td>\n",
       "      <td>0.07921</td>\n",
       "      <td>0.074875</td>\n",
       "      <td>0</td>\n",
       "      <td>0.171886</td>\n",
       "      <td>1</td>\n",
       "    </tr>\n",
       "  </tbody>\n",
       "</table>\n",
       "</div>"
      ],
      "text/plain": [
       "  ticker    date      open     high      low     close   mean_day  target  \\\n",
       "0   BTC  2010-07-17  0.04951  0.04951  0.04951  0.04951  0.049510     0     \n",
       "1   BTC  2010-07-18  0.04951  0.08585  0.04951  0.08584  0.067678     1     \n",
       "2   BTC  2010-07-19  0.08584  0.09307  0.07723  0.08080  0.084235     1     \n",
       "3   BTC  2010-07-20  0.08080  0.08181  0.07426  0.07474  0.077902     0     \n",
       "4   BTC  2010-07-21  0.07474  0.07921  0.06634  0.07921  0.074875     0     \n",
       "\n",
       "   daily_variation  variation_category  \n",
       "0     0.000000               0          \n",
       "1     0.536958               1          \n",
       "2     0.188045               1          \n",
       "3     0.096916               0          \n",
       "4     0.171886               1          "
      ]
     },
     "execution_count": 167,
     "metadata": {},
     "output_type": "execute_result"
    }
   ],
   "source": [
    "data_btc.head()"
   ]
  },
  {
   "cell_type": "markdown",
   "metadata": {},
   "source": [
    "Borramos ticker al ser una variable categorica, que solo aporta el nombre de la cryptomoneda"
   ]
  },
  {
   "cell_type": "code",
   "execution_count": 168,
   "metadata": {},
   "outputs": [],
   "source": [
    "# Eliminamos ticker\n",
    "data_btc = data_btc.drop(columns=['ticker'])"
   ]
  },
  {
   "cell_type": "code",
   "execution_count": 169,
   "metadata": {},
   "outputs": [
    {
     "data": {
      "text/html": [
       "<div>\n",
       "<style scoped>\n",
       "    .dataframe tbody tr th:only-of-type {\n",
       "        vertical-align: middle;\n",
       "    }\n",
       "\n",
       "    .dataframe tbody tr th {\n",
       "        vertical-align: top;\n",
       "    }\n",
       "\n",
       "    .dataframe thead th {\n",
       "        text-align: right;\n",
       "    }\n",
       "</style>\n",
       "<table border=\"1\" class=\"dataframe\">\n",
       "  <thead>\n",
       "    <tr style=\"text-align: center;\">\n",
       "      <th></th>\n",
       "      <th>date</th>\n",
       "      <th>open</th>\n",
       "      <th>high</th>\n",
       "      <th>low</th>\n",
       "      <th>close</th>\n",
       "      <th>mean_day</th>\n",
       "      <th>target</th>\n",
       "      <th>daily_variation</th>\n",
       "      <th>variation_category</th>\n",
       "    </tr>\n",
       "  </thead>\n",
       "  <tbody>\n",
       "    <tr>\n",
       "      <th>0</th>\n",
       "      <td>2010-07-17</td>\n",
       "      <td>0.04951</td>\n",
       "      <td>0.04951</td>\n",
       "      <td>0.04951</td>\n",
       "      <td>0.04951</td>\n",
       "      <td>0.049510</td>\n",
       "      <td>0</td>\n",
       "      <td>0.000000</td>\n",
       "      <td>0</td>\n",
       "    </tr>\n",
       "    <tr>\n",
       "      <th>1</th>\n",
       "      <td>2010-07-18</td>\n",
       "      <td>0.04951</td>\n",
       "      <td>0.08585</td>\n",
       "      <td>0.04951</td>\n",
       "      <td>0.08584</td>\n",
       "      <td>0.067678</td>\n",
       "      <td>1</td>\n",
       "      <td>0.536958</td>\n",
       "      <td>1</td>\n",
       "    </tr>\n",
       "    <tr>\n",
       "      <th>2</th>\n",
       "      <td>2010-07-19</td>\n",
       "      <td>0.08584</td>\n",
       "      <td>0.09307</td>\n",
       "      <td>0.07723</td>\n",
       "      <td>0.08080</td>\n",
       "      <td>0.084235</td>\n",
       "      <td>1</td>\n",
       "      <td>0.188045</td>\n",
       "      <td>1</td>\n",
       "    </tr>\n",
       "    <tr>\n",
       "      <th>3</th>\n",
       "      <td>2010-07-20</td>\n",
       "      <td>0.08080</td>\n",
       "      <td>0.08181</td>\n",
       "      <td>0.07426</td>\n",
       "      <td>0.07474</td>\n",
       "      <td>0.077902</td>\n",
       "      <td>0</td>\n",
       "      <td>0.096916</td>\n",
       "      <td>0</td>\n",
       "    </tr>\n",
       "    <tr>\n",
       "      <th>4</th>\n",
       "      <td>2010-07-21</td>\n",
       "      <td>0.07474</td>\n",
       "      <td>0.07921</td>\n",
       "      <td>0.06634</td>\n",
       "      <td>0.07921</td>\n",
       "      <td>0.074875</td>\n",
       "      <td>0</td>\n",
       "      <td>0.171886</td>\n",
       "      <td>1</td>\n",
       "    </tr>\n",
       "  </tbody>\n",
       "</table>\n",
       "</div>"
      ],
      "text/plain": [
       "     date      open     high      low     close   mean_day  target  \\\n",
       "0 2010-07-17  0.04951  0.04951  0.04951  0.04951  0.049510     0     \n",
       "1 2010-07-18  0.04951  0.08585  0.04951  0.08584  0.067678     1     \n",
       "2 2010-07-19  0.08584  0.09307  0.07723  0.08080  0.084235     1     \n",
       "3 2010-07-20  0.08080  0.08181  0.07426  0.07474  0.077902     0     \n",
       "4 2010-07-21  0.07474  0.07921  0.06634  0.07921  0.074875     0     \n",
       "\n",
       "   daily_variation  variation_category  \n",
       "0     0.000000               0          \n",
       "1     0.536958               1          \n",
       "2     0.188045               1          \n",
       "3     0.096916               0          \n",
       "4     0.171886               1          "
      ]
     },
     "execution_count": 169,
     "metadata": {},
     "output_type": "execute_result"
    }
   ],
   "source": [
    "data_btc.head()"
   ]
  },
  {
   "cell_type": "markdown",
   "metadata": {},
   "source": [
    "Convertimos las fechas"
   ]
  },
  {
   "cell_type": "code",
   "execution_count": 170,
   "metadata": {},
   "outputs": [],
   "source": [
    "data_btc['day_of_week'] = pd.to_datetime(data_btc['date']).dt.dayofweek\n",
    "data_btc['month'] = pd.to_datetime(data_btc['date']).dt.month\n",
    "data_btc['year'] = pd.to_datetime(data_btc['date']).dt.year\n",
    "\n",
    "data_btc = data_btc.drop(columns=['date'])"
   ]
  },
  {
   "cell_type": "markdown",
   "metadata": {},
   "source": [
    "Verificamos existencia de valores nulos"
   ]
  },
  {
   "cell_type": "code",
   "execution_count": 171,
   "metadata": {},
   "outputs": [
    {
     "name": "stdout",
     "output_type": "stream",
     "text": [
      "Valores nulos en BTC:\n",
      "open                  0\n",
      "high                  0\n",
      "low                   0\n",
      "close                 0\n",
      "mean_day              0\n",
      "target                0\n",
      "daily_variation       0\n",
      "variation_category    0\n",
      "day_of_week           0\n",
      "month                 0\n",
      "year                  0\n",
      "dtype: int64\n"
     ]
    }
   ],
   "source": [
    "# Revisar valores nulos\n",
    "print(\"Valores nulos en BTC:\")\n",
    "print(data_btc.isnull().sum())\n",
    "\n",
    "# Eliminar filas o imputar valores si hay valores nulos\n",
    "data_btc = data_btc.dropna()"
   ]
  },
  {
   "cell_type": "markdown",
   "metadata": {},
   "source": [
    "## Dividimos los datasets para entrenar y testear"
   ]
  },
  {
   "cell_type": "code",
   "execution_count": 172,
   "metadata": {},
   "outputs": [],
   "source": [
    "# Seleccionar características y target\n",
    "X_btc = data_btc.drop(columns=['target']) \n",
    "y_btc = data_btc['target']                        "
   ]
  },
  {
   "cell_type": "markdown",
   "metadata": {},
   "source": [
    "# Modelos"
   ]
  },
  {
   "cell_type": "markdown",
   "metadata": {},
   "source": [
    "### Random Forest"
   ]
  },
  {
   "cell_type": "code",
   "execution_count": 86,
   "metadata": {},
   "outputs": [
    {
     "data": {
      "text/html": [
       "<style>#sk-container-id-4 {color: black;}#sk-container-id-4 pre{padding: 0;}#sk-container-id-4 div.sk-toggleable {background-color: white;}#sk-container-id-4 label.sk-toggleable__label {cursor: pointer;display: block;width: 100%;margin-bottom: 0;padding: 0.3em;box-sizing: border-box;text-align: center;}#sk-container-id-4 label.sk-toggleable__label-arrow:before {content: \"▸\";float: left;margin-right: 0.25em;color: #696969;}#sk-container-id-4 label.sk-toggleable__label-arrow:hover:before {color: black;}#sk-container-id-4 div.sk-estimator:hover label.sk-toggleable__label-arrow:before {color: black;}#sk-container-id-4 div.sk-toggleable__content {max-height: 0;max-width: 0;overflow: hidden;text-align: left;background-color: #f0f8ff;}#sk-container-id-4 div.sk-toggleable__content pre {margin: 0.2em;color: black;border-radius: 0.25em;background-color: #f0f8ff;}#sk-container-id-4 input.sk-toggleable__control:checked~div.sk-toggleable__content {max-height: 200px;max-width: 100%;overflow: auto;}#sk-container-id-4 input.sk-toggleable__control:checked~label.sk-toggleable__label-arrow:before {content: \"▾\";}#sk-container-id-4 div.sk-estimator input.sk-toggleable__control:checked~label.sk-toggleable__label {background-color: #d4ebff;}#sk-container-id-4 div.sk-label input.sk-toggleable__control:checked~label.sk-toggleable__label {background-color: #d4ebff;}#sk-container-id-4 input.sk-hidden--visually {border: 0;clip: rect(1px 1px 1px 1px);clip: rect(1px, 1px, 1px, 1px);height: 1px;margin: -1px;overflow: hidden;padding: 0;position: absolute;width: 1px;}#sk-container-id-4 div.sk-estimator {font-family: monospace;background-color: #f0f8ff;border: 1px dotted black;border-radius: 0.25em;box-sizing: border-box;margin-bottom: 0.5em;}#sk-container-id-4 div.sk-estimator:hover {background-color: #d4ebff;}#sk-container-id-4 div.sk-parallel-item::after {content: \"\";width: 100%;border-bottom: 1px solid gray;flex-grow: 1;}#sk-container-id-4 div.sk-label:hover label.sk-toggleable__label {background-color: #d4ebff;}#sk-container-id-4 div.sk-serial::before {content: \"\";position: absolute;border-left: 1px solid gray;box-sizing: border-box;top: 0;bottom: 0;left: 50%;z-index: 0;}#sk-container-id-4 div.sk-serial {display: flex;flex-direction: column;align-items: center;background-color: white;padding-right: 0.2em;padding-left: 0.2em;position: relative;}#sk-container-id-4 div.sk-item {position: relative;z-index: 1;}#sk-container-id-4 div.sk-parallel {display: flex;align-items: stretch;justify-content: center;background-color: white;position: relative;}#sk-container-id-4 div.sk-item::before, #sk-container-id-4 div.sk-parallel-item::before {content: \"\";position: absolute;border-left: 1px solid gray;box-sizing: border-box;top: 0;bottom: 0;left: 50%;z-index: -1;}#sk-container-id-4 div.sk-parallel-item {display: flex;flex-direction: column;z-index: 1;position: relative;background-color: white;}#sk-container-id-4 div.sk-parallel-item:first-child::after {align-self: flex-end;width: 50%;}#sk-container-id-4 div.sk-parallel-item:last-child::after {align-self: flex-start;width: 50%;}#sk-container-id-4 div.sk-parallel-item:only-child::after {width: 0;}#sk-container-id-4 div.sk-dashed-wrapped {border: 1px dashed gray;margin: 0 0.4em 0.5em 0.4em;box-sizing: border-box;padding-bottom: 0.4em;background-color: white;}#sk-container-id-4 div.sk-label label {font-family: monospace;font-weight: bold;display: inline-block;line-height: 1.2em;}#sk-container-id-4 div.sk-label-container {text-align: center;}#sk-container-id-4 div.sk-container {/* jupyter's `normalize.less` sets `[hidden] { display: none; }` but bootstrap.min.css set `[hidden] { display: none !important; }` so we also need the `!important` here to be able to override the default hidden behavior on the sphinx rendered scikit-learn.org. See: https://github.com/scikit-learn/scikit-learn/issues/21755 */display: inline-block !important;position: relative;}#sk-container-id-4 div.sk-text-repr-fallback {display: none;}</style><div id=\"sk-container-id-4\" class=\"sk-top-container\"><div class=\"sk-text-repr-fallback\"><pre>RandomForestClassifier()</pre><b>In a Jupyter environment, please rerun this cell to show the HTML representation or trust the notebook. <br />On GitHub, the HTML representation is unable to render, please try loading this page with nbviewer.org.</b></div><div class=\"sk-container\" hidden><div class=\"sk-item\"><div class=\"sk-estimator sk-toggleable\"><input class=\"sk-toggleable__control sk-hidden--visually\" id=\"sk-estimator-id-4\" type=\"checkbox\" checked><label for=\"sk-estimator-id-4\" class=\"sk-toggleable__label sk-toggleable__label-arrow\">RandomForestClassifier</label><div class=\"sk-toggleable__content\"><pre>RandomForestClassifier()</pre></div></div></div></div></div>"
      ],
      "text/plain": [
       "RandomForestClassifier()"
      ]
     },
     "execution_count": 86,
     "metadata": {},
     "output_type": "execute_result"
    }
   ],
   "source": [
    "x_train, x_test, y_train, y_test = train_test_split(X_btc,\n",
    "                                                    y_btc,\n",
    "                                                    test_size=0.2,  \n",
    "                                                    random_state=70)\n",
    "rf_model = RandomForestClassifier(n_estimators=100)\n",
    "rf_model.fit(x_train, y_train)"
   ]
  },
  {
   "cell_type": "code",
   "execution_count": 87,
   "metadata": {},
   "outputs": [
    {
     "name": "stdout",
     "output_type": "stream",
     "text": [
      "Accuracy: 0.6253574833174452\n",
      "Precisión: 0.6405228758169934\n",
      "Recall: 0.6938053097345133\n",
      "F1-Score: 0.6661002548853016\n"
     ]
    }
   ],
   "source": [
    "rf_predictions = rf_model.predict(x_test)\n",
    "ds_resultados=pd.DataFrame(zip(y_test, rf_predictions),columns=['test','pred'])\n",
    "\n",
    "#Observamos accuracy del modelo\n",
    "accuracy = accuracy_score(y_test, rf_predictions)\n",
    "print(\"Accuracy:\", accuracy)\n",
    "\n",
    "#Observamos la precision del modelo\n",
    "precision = precision_score(y_test, rf_predictions)\n",
    "print(\"Precisión:\", precision)\n",
    "\n",
    "#Observamos el recall del modelo\n",
    "recall = recall_score(y_test, rf_predictions)\n",
    "print(\"Recall:\", recall)\n",
    "\n",
    "#Observamos el F1 Score de este arbol\n",
    "f1 = f1_score(y_test, rf_predictions)\n",
    "print(\"F1-Score:\", f1)"
   ]
  },
  {
   "cell_type": "markdown",
   "metadata": {},
   "source": [
    "Mejora de hiperparametros"
   ]
  },
  {
   "cell_type": "code",
   "execution_count": null,
   "metadata": {},
   "outputs": [],
   "source": [
    "param_grid = {\n",
    "    'n_estimators':[550,551,555],\n",
    "    'bootstrap':[True], \n",
    "    'max_depth':[20,25,28],\n",
    "    'max_features':[20,22,25], \n",
    "    'min_samples_split':[2,3,4], \n",
    "    'min_samples_leaf':[1,2,3], \n",
    "    'random_state':[65,71,75]\n",
    "}\n",
    "\n",
    "# Crear el clasificador SVM\n",
    "svm_classifier = RandomForestClassifier()\n",
    "\n",
    "# Realizar la búsqueda en cuadrícula con validación cruzada\n",
    "grid_search = RandomizedSearchCV(svm_classifier, param_grid, cv=5, scoring='accuracy')\n",
    "grid_search.fit(x_train, y_train)\n",
    "\n",
    "# Mostrar los mejores hiperparámetros\n",
    "print(\"Mejores hiperparámetros encontrados:\")\n",
    "print(grid_search.best_params_)\n",
    "\n",
    "# Mostrar el mejor puntaje\n",
    "print(\"Mejor puntaje de validación cruzada:\", grid_search.best_score_)"
   ]
  },
  {
   "cell_type": "markdown",
   "metadata": {},
   "source": [
    "Probamos modelo con mejores hiperparametros"
   ]
  },
  {
   "cell_type": "code",
   "execution_count": 88,
   "metadata": {},
   "outputs": [
    {
     "data": {
      "text/html": [
       "<style>#sk-container-id-5 {color: black;}#sk-container-id-5 pre{padding: 0;}#sk-container-id-5 div.sk-toggleable {background-color: white;}#sk-container-id-5 label.sk-toggleable__label {cursor: pointer;display: block;width: 100%;margin-bottom: 0;padding: 0.3em;box-sizing: border-box;text-align: center;}#sk-container-id-5 label.sk-toggleable__label-arrow:before {content: \"▸\";float: left;margin-right: 0.25em;color: #696969;}#sk-container-id-5 label.sk-toggleable__label-arrow:hover:before {color: black;}#sk-container-id-5 div.sk-estimator:hover label.sk-toggleable__label-arrow:before {color: black;}#sk-container-id-5 div.sk-toggleable__content {max-height: 0;max-width: 0;overflow: hidden;text-align: left;background-color: #f0f8ff;}#sk-container-id-5 div.sk-toggleable__content pre {margin: 0.2em;color: black;border-radius: 0.25em;background-color: #f0f8ff;}#sk-container-id-5 input.sk-toggleable__control:checked~div.sk-toggleable__content {max-height: 200px;max-width: 100%;overflow: auto;}#sk-container-id-5 input.sk-toggleable__control:checked~label.sk-toggleable__label-arrow:before {content: \"▾\";}#sk-container-id-5 div.sk-estimator input.sk-toggleable__control:checked~label.sk-toggleable__label {background-color: #d4ebff;}#sk-container-id-5 div.sk-label input.sk-toggleable__control:checked~label.sk-toggleable__label {background-color: #d4ebff;}#sk-container-id-5 input.sk-hidden--visually {border: 0;clip: rect(1px 1px 1px 1px);clip: rect(1px, 1px, 1px, 1px);height: 1px;margin: -1px;overflow: hidden;padding: 0;position: absolute;width: 1px;}#sk-container-id-5 div.sk-estimator {font-family: monospace;background-color: #f0f8ff;border: 1px dotted black;border-radius: 0.25em;box-sizing: border-box;margin-bottom: 0.5em;}#sk-container-id-5 div.sk-estimator:hover {background-color: #d4ebff;}#sk-container-id-5 div.sk-parallel-item::after {content: \"\";width: 100%;border-bottom: 1px solid gray;flex-grow: 1;}#sk-container-id-5 div.sk-label:hover label.sk-toggleable__label {background-color: #d4ebff;}#sk-container-id-5 div.sk-serial::before {content: \"\";position: absolute;border-left: 1px solid gray;box-sizing: border-box;top: 0;bottom: 0;left: 50%;z-index: 0;}#sk-container-id-5 div.sk-serial {display: flex;flex-direction: column;align-items: center;background-color: white;padding-right: 0.2em;padding-left: 0.2em;position: relative;}#sk-container-id-5 div.sk-item {position: relative;z-index: 1;}#sk-container-id-5 div.sk-parallel {display: flex;align-items: stretch;justify-content: center;background-color: white;position: relative;}#sk-container-id-5 div.sk-item::before, #sk-container-id-5 div.sk-parallel-item::before {content: \"\";position: absolute;border-left: 1px solid gray;box-sizing: border-box;top: 0;bottom: 0;left: 50%;z-index: -1;}#sk-container-id-5 div.sk-parallel-item {display: flex;flex-direction: column;z-index: 1;position: relative;background-color: white;}#sk-container-id-5 div.sk-parallel-item:first-child::after {align-self: flex-end;width: 50%;}#sk-container-id-5 div.sk-parallel-item:last-child::after {align-self: flex-start;width: 50%;}#sk-container-id-5 div.sk-parallel-item:only-child::after {width: 0;}#sk-container-id-5 div.sk-dashed-wrapped {border: 1px dashed gray;margin: 0 0.4em 0.5em 0.4em;box-sizing: border-box;padding-bottom: 0.4em;background-color: white;}#sk-container-id-5 div.sk-label label {font-family: monospace;font-weight: bold;display: inline-block;line-height: 1.2em;}#sk-container-id-5 div.sk-label-container {text-align: center;}#sk-container-id-5 div.sk-container {/* jupyter's `normalize.less` sets `[hidden] { display: none; }` but bootstrap.min.css set `[hidden] { display: none !important; }` so we also need the `!important` here to be able to override the default hidden behavior on the sphinx rendered scikit-learn.org. See: https://github.com/scikit-learn/scikit-learn/issues/21755 */display: inline-block !important;position: relative;}#sk-container-id-5 div.sk-text-repr-fallback {display: none;}</style><div id=\"sk-container-id-5\" class=\"sk-top-container\"><div class=\"sk-text-repr-fallback\"><pre>RandomForestClassifier(max_depth=28, max_features=22, n_estimators=551,\n",
       "                       random_state=71)</pre><b>In a Jupyter environment, please rerun this cell to show the HTML representation or trust the notebook. <br />On GitHub, the HTML representation is unable to render, please try loading this page with nbviewer.org.</b></div><div class=\"sk-container\" hidden><div class=\"sk-item\"><div class=\"sk-estimator sk-toggleable\"><input class=\"sk-toggleable__control sk-hidden--visually\" id=\"sk-estimator-id-5\" type=\"checkbox\" checked><label for=\"sk-estimator-id-5\" class=\"sk-toggleable__label sk-toggleable__label-arrow\">RandomForestClassifier</label><div class=\"sk-toggleable__content\"><pre>RandomForestClassifier(max_depth=28, max_features=22, n_estimators=551,\n",
       "                       random_state=71)</pre></div></div></div></div></div>"
      ],
      "text/plain": [
       "RandomForestClassifier(max_depth=28, max_features=22, n_estimators=551,\n",
       "                       random_state=71)"
      ]
     },
     "execution_count": 88,
     "metadata": {},
     "output_type": "execute_result"
    }
   ],
   "source": [
    "x_train, x_test, y_train, y_test = train_test_split(X_btc,\n",
    "                                                    y_btc,\n",
    "                                                    test_size=0.2,  \n",
    "                                                    random_state=70)\n",
    "rf_model = RandomForestClassifier(n_estimators=551,\n",
    "                                  bootstrap=True, \n",
    "                                  max_depth=28,\n",
    "                                  max_features=22, \n",
    "                                  min_samples_split=2, \n",
    "                                  min_samples_leaf=1, \n",
    "                                  random_state=71)\n",
    "rf_model.fit(x_train, y_train)"
   ]
  },
  {
   "cell_type": "code",
   "execution_count": 89,
   "metadata": {},
   "outputs": [
    {
     "name": "stdout",
     "output_type": "stream",
     "text": [
      "Accuracy: 0.6472831267874166\n",
      "Precisión: 0.6550079491255962\n",
      "Recall: 0.7292035398230089\n",
      "F1-Score: 0.6901172529313232\n"
     ]
    }
   ],
   "source": [
    "rf_predictions = rf_model.predict(x_test)\n",
    "ds_resultados=pd.DataFrame(zip(y_test, rf_predictions),columns=['test','pred'])\n",
    "\n",
    "#Observamos accuracy del modelo\n",
    "accuracy = accuracy_score(y_test, rf_predictions)\n",
    "print(\"Accuracy:\", accuracy)\n",
    "\n",
    "#Observamos la precision del modelo\n",
    "precision = precision_score(y_test, rf_predictions)\n",
    "print(\"Precisión:\", precision)\n",
    "\n",
    "#Observamos el recall del modelo\n",
    "recall = recall_score(y_test, rf_predictions)\n",
    "print(\"Recall:\", recall)\n",
    "\n",
    "#Observamos el F1 Score de este arbol\n",
    "f1 = f1_score(y_test, rf_predictions)\n",
    "print(\"F1-Score:\", f1)"
   ]
  },
  {
   "cell_type": "markdown",
   "metadata": {},
   "source": [
    "Matriz de confusion"
   ]
  },
  {
   "cell_type": "code",
   "execution_count": 90,
   "metadata": {},
   "outputs": [
    {
     "data": {
      "text/plain": [
       "Text(12.444444444444445, 0.5, 'True')"
      ]
     },
     "execution_count": 90,
     "metadata": {},
     "output_type": "execute_result"
    }
   ],
   "source": [
    "tabla=confusion_matrix(y_test, rf_predictions)\n",
    "\n",
    "#Grafico la matriz de confusión\n",
    "sns.heatmap(tabla,cmap='GnBu',annot=True,fmt='g')\n",
    "plt.xlabel('Predicted')\n",
    "plt.ylabel('True')"
   ]
  },
  {
   "cell_type": "markdown",
   "metadata": {},
   "source": [
    "### Support Vector Machine"
   ]
  },
  {
   "cell_type": "code",
   "execution_count": 106,
   "metadata": {},
   "outputs": [
    {
     "name": "stdout",
     "output_type": "stream",
     "text": [
      "Accuracy: 0.7178265014299333\n",
      "Precisión: 0.6940836940836941\n",
      "Recall: 0.8513274336283185\n",
      "F1-Score: 0.7647058823529411\n"
     ]
    }
   ],
   "source": [
    "svm_classifier = SVC(kernel='linear',\n",
    "                    C=0.1,\n",
    "                    gamma='scale',\n",
    "                    degree=3,\n",
    "                    class_weight=None)\n",
    "\n",
    "svm_classifier.fit(x_train, y_train)\n",
    "\n",
    "svm_predictions = svm_classifier.predict(np.array(x_test))\n",
    "ds_resultados=pd.DataFrame(zip(y_test,svm_predictions),columns=['test','pred'])\n",
    "\n",
    "#Observamos accuracy del modelo\n",
    "accuracy = accuracy_score(y_test, svm_predictions)\n",
    "print(\"Accuracy:\", accuracy)\n",
    "\n",
    "#Observamos la precision del modelo\n",
    "precision = precision_score(y_test, svm_predictions)\n",
    "print(\"Precisión:\", precision)\n",
    "\n",
    "#Observamos el recall del modelo\n",
    "recall = recall_score(y_test, svm_predictions)\n",
    "print(\"Recall:\", recall)\n",
    "\n",
    "#Observamos el F1 Score de este arbol\n",
    "f1 = f1_score(y_test, svm_predictions)\n",
    "print(\"F1-Score:\", f1)"
   ]
  },
  {
   "cell_type": "markdown",
   "metadata": {},
   "source": [
    "Buscamos mejores hiperparametros"
   ]
  },
  {
   "cell_type": "code",
   "execution_count": null,
   "metadata": {},
   "outputs": [],
   "source": [
    "param_grid = {\n",
    "    'C': [0.1, 1, 10, 15, 20],\n",
    "    'kernel': ['linear', 'rbf', 'poly'],\n",
    "    'gamma': [0.1, 1, 'scale', 'auto'],\n",
    "    'degree': [2, 3, 4],\n",
    "    'coef0': [0, 1],\n",
    "    'class_weight': [None, 'balanced']\n",
    "}\n",
    "\n",
    "# Crear el clasificador SVM\n",
    "svm_classifier = SVC()\n",
    "\n",
    "# Realizar la búsqueda en cuadrícula con validación cruzada\n",
    "grid_search = RandomizedSearchCV(svm_classifier, param_grid, cv=5, scoring='accuracy')\n",
    "grid_search.fit(x_train, y_train)\n",
    "\n",
    "# Mostrar los mejores hiperparámetros\n",
    "print(\"Mejores hiperparámetros encontrados:\")\n",
    "print(grid_search.best_params_)\n",
    "\n",
    "# Mostrar el mejor puntaje\n",
    "print(\"Mejor puntaje de validación cruzada:\", grid_search.best_score_)"
   ]
  },
  {
   "cell_type": "markdown",
   "metadata": {},
   "source": [
    "Probamos mejores hiperparametros"
   ]
  },
  {
   "cell_type": "code",
   "execution_count": null,
   "metadata": {},
   "outputs": [],
   "source": [
    "svm_classifier = SVC(kernel='linear',\n",
    "                    C=10,\n",
    "                    gamma=\"auto\",\n",
    "                    degree=2,\n",
    "                    coef0=0,\n",
    "                    class_weight= None\n",
    "                    )\n",
    "\n",
    "\n",
    "svm_classifier.fit(x_train, y_train)"
   ]
  },
  {
   "cell_type": "code",
   "execution_count": null,
   "metadata": {},
   "outputs": [],
   "source": [
    "svm_predictions = svm_classifier.predict(np.array(x_test))\n",
    "ds_resultados=pd.DataFrame(zip(y_test,svm_predictions),columns=['test','pred'])\n",
    "\n",
    "#Observamos accuracy del modelo\n",
    "accuracy = accuracy_score(y_test, svm_predictions)\n",
    "print(\"Accuracy:\", accuracy)\n",
    "\n",
    "#Observamos la precision del modelo\n",
    "precision = precision_score(y_test, svm_predictions)\n",
    "print(\"Precisión:\", precision)\n",
    "\n",
    "#Observamos el recall del modelo\n",
    "recall = recall_score(y_test, svm_predictions)\n",
    "print(\"Recall:\", recall)\n",
    "\n",
    "#Observamos el F1 Score de este arbol\n",
    "f1 = f1_score(y_test, svm_predictions)\n",
    "print(\"F1-Score:\", f1)"
   ]
  },
  {
   "cell_type": "markdown",
   "metadata": {},
   "source": [
    "Matriz de confusion"
   ]
  },
  {
   "cell_type": "code",
   "execution_count": null,
   "metadata": {},
   "outputs": [],
   "source": [
    "tabla=confusion_matrix(y_test, svm_predictions)\n",
    "\n",
    "#Grafico la matriz de confusión\n",
    "sns.heatmap(tabla,cmap='GnBu',annot=True,fmt='g')\n",
    "plt.xlabel('Predicted')\n",
    "plt.ylabel('True')"
   ]
  },
  {
   "cell_type": "markdown",
   "metadata": {},
   "source": [
    "### XGBoost"
   ]
  },
  {
   "cell_type": "code",
   "execution_count": 91,
   "metadata": {},
   "outputs": [
    {
     "name": "stdout",
     "output_type": "stream",
     "text": [
      "Accuracy: 0.6663489037178265\n",
      "Precisión: 0.6731078904991948\n",
      "Recall: 0.7398230088495575\n",
      "F1-Score: 0.7048903878583473\n"
     ]
    }
   ],
   "source": [
    "xgb_model = XGBClassifier(n_estimators=100)\n",
    "\n",
    "xgb_model.fit(x_train, y_train)\n",
    "\n",
    "xgb_predictions = xgb_model.predict(np.array(x_test))\n",
    "ds_resultados=pd.DataFrame(zip(y_test, xgb_predictions),columns=['test','pred'])\n",
    "\n",
    "#Observamos accuracy del modelo\n",
    "accuracy = accuracy_score(y_test, xgb_predictions)\n",
    "print(\"Accuracy:\", accuracy)\n",
    "\n",
    "#Observamos la precision del modelo\n",
    "precision = precision_score(y_test, xgb_predictions)\n",
    "print(\"Precisión:\", precision)\n",
    "\n",
    "#Observamos el recall del modelo\n",
    "recall = recall_score(y_test, xgb_predictions)\n",
    "print(\"Recall:\", recall)\n",
    "\n",
    "#Observamos el F1 Score de este arbol\n",
    "f1 = f1_score(y_test, xgb_predictions)\n",
    "print(\"F1-Score:\", f1)"
   ]
  },
  {
   "cell_type": "markdown",
   "metadata": {},
   "source": [
    "Mejora de hiperparametros"
   ]
  },
  {
   "cell_type": "code",
   "execution_count": null,
   "metadata": {},
   "outputs": [],
   "source": [
    "n=10\n",
    "\n",
    "params_grid = {'n_estimators':[300, 500, 700, 1000],\n",
    "                'max_depth':list(range(0,30)),\n",
    "                'learning_rate':[1, 0.1, 0.01],\n",
    "                'subsample':1,\n",
    "                'colsample_bytree':[1, 0.8, 0.5],\n",
    "                'gamma':[0.8, 0.5, 0.3],\n",
    "                'objective':\"reg:logistic\",\n",
    "                'random_state':30}\n",
    "\n",
    "folds=10\n",
    "kfoldcv = StratifiedKFold(n_splits=folds)\n",
    "base_tree = XGBClassifier()\n",
    "scorer_fn = make_scorer(f1_score)\n",
    "\n",
    "#Random Search Cross Validation\n",
    "randomcv = RandomizedSearchCV(estimator=base_tree,\n",
    "                              param_distributions = params_grid,\n",
    "                              scoring=scorer_fn,\n",
    "                              cv=kfoldcv,\n",
    "                              n_iter=n)\n",
    "\n",
    "randomcv.fit(x_train,y_train)\n",
    "\n",
    "#Mejores hiperparametros del arbol\n",
    "print(randomcv.best_params_)\n",
    "#Mejor métrica\n",
    "print(randomcv.best_score_)"
   ]
  },
  {
   "cell_type": "markdown",
   "metadata": {},
   "source": [
    "Probamos mejores hiperparametros"
   ]
  },
  {
   "cell_type": "code",
   "execution_count": 92,
   "metadata": {},
   "outputs": [
    {
     "data": {
      "text/html": [
       "<style>#sk-container-id-6 {color: black;}#sk-container-id-6 pre{padding: 0;}#sk-container-id-6 div.sk-toggleable {background-color: white;}#sk-container-id-6 label.sk-toggleable__label {cursor: pointer;display: block;width: 100%;margin-bottom: 0;padding: 0.3em;box-sizing: border-box;text-align: center;}#sk-container-id-6 label.sk-toggleable__label-arrow:before {content: \"▸\";float: left;margin-right: 0.25em;color: #696969;}#sk-container-id-6 label.sk-toggleable__label-arrow:hover:before {color: black;}#sk-container-id-6 div.sk-estimator:hover label.sk-toggleable__label-arrow:before {color: black;}#sk-container-id-6 div.sk-toggleable__content {max-height: 0;max-width: 0;overflow: hidden;text-align: left;background-color: #f0f8ff;}#sk-container-id-6 div.sk-toggleable__content pre {margin: 0.2em;color: black;border-radius: 0.25em;background-color: #f0f8ff;}#sk-container-id-6 input.sk-toggleable__control:checked~div.sk-toggleable__content {max-height: 200px;max-width: 100%;overflow: auto;}#sk-container-id-6 input.sk-toggleable__control:checked~label.sk-toggleable__label-arrow:before {content: \"▾\";}#sk-container-id-6 div.sk-estimator input.sk-toggleable__control:checked~label.sk-toggleable__label {background-color: #d4ebff;}#sk-container-id-6 div.sk-label input.sk-toggleable__control:checked~label.sk-toggleable__label {background-color: #d4ebff;}#sk-container-id-6 input.sk-hidden--visually {border: 0;clip: rect(1px 1px 1px 1px);clip: rect(1px, 1px, 1px, 1px);height: 1px;margin: -1px;overflow: hidden;padding: 0;position: absolute;width: 1px;}#sk-container-id-6 div.sk-estimator {font-family: monospace;background-color: #f0f8ff;border: 1px dotted black;border-radius: 0.25em;box-sizing: border-box;margin-bottom: 0.5em;}#sk-container-id-6 div.sk-estimator:hover {background-color: #d4ebff;}#sk-container-id-6 div.sk-parallel-item::after {content: \"\";width: 100%;border-bottom: 1px solid gray;flex-grow: 1;}#sk-container-id-6 div.sk-label:hover label.sk-toggleable__label {background-color: #d4ebff;}#sk-container-id-6 div.sk-serial::before {content: \"\";position: absolute;border-left: 1px solid gray;box-sizing: border-box;top: 0;bottom: 0;left: 50%;z-index: 0;}#sk-container-id-6 div.sk-serial {display: flex;flex-direction: column;align-items: center;background-color: white;padding-right: 0.2em;padding-left: 0.2em;position: relative;}#sk-container-id-6 div.sk-item {position: relative;z-index: 1;}#sk-container-id-6 div.sk-parallel {display: flex;align-items: stretch;justify-content: center;background-color: white;position: relative;}#sk-container-id-6 div.sk-item::before, #sk-container-id-6 div.sk-parallel-item::before {content: \"\";position: absolute;border-left: 1px solid gray;box-sizing: border-box;top: 0;bottom: 0;left: 50%;z-index: -1;}#sk-container-id-6 div.sk-parallel-item {display: flex;flex-direction: column;z-index: 1;position: relative;background-color: white;}#sk-container-id-6 div.sk-parallel-item:first-child::after {align-self: flex-end;width: 50%;}#sk-container-id-6 div.sk-parallel-item:last-child::after {align-self: flex-start;width: 50%;}#sk-container-id-6 div.sk-parallel-item:only-child::after {width: 0;}#sk-container-id-6 div.sk-dashed-wrapped {border: 1px dashed gray;margin: 0 0.4em 0.5em 0.4em;box-sizing: border-box;padding-bottom: 0.4em;background-color: white;}#sk-container-id-6 div.sk-label label {font-family: monospace;font-weight: bold;display: inline-block;line-height: 1.2em;}#sk-container-id-6 div.sk-label-container {text-align: center;}#sk-container-id-6 div.sk-container {/* jupyter's `normalize.less` sets `[hidden] { display: none; }` but bootstrap.min.css set `[hidden] { display: none !important; }` so we also need the `!important` here to be able to override the default hidden behavior on the sphinx rendered scikit-learn.org. See: https://github.com/scikit-learn/scikit-learn/issues/21755 */display: inline-block !important;position: relative;}#sk-container-id-6 div.sk-text-repr-fallback {display: none;}</style><div id=\"sk-container-id-6\" class=\"sk-top-container\"><div class=\"sk-text-repr-fallback\"><pre>XGBClassifier(base_score=0.5, booster=&#x27;gbtree&#x27;, callbacks=None,\n",
       "              colsample_bylevel=1, colsample_bynode=1, colsample_bytree=0.8,\n",
       "              early_stopping_rounds=None, enable_categorical=False,\n",
       "              eval_metric=None, gamma=0.3, gpu_id=-1, grow_policy=&#x27;depthwise&#x27;,\n",
       "              importance_type=None, interaction_constraints=&#x27;&#x27;,\n",
       "              learning_rate=0.01, max_bin=256, max_cat_to_onehot=4,\n",
       "              max_delta_step=0, max_depth=25, max_leaves=0, min_child_weight=1,\n",
       "              missing=nan, monotone_constraints=&#x27;()&#x27;, n_estimators=1000,\n",
       "              n_jobs=0, num_parallel_tree=1, objective=&#x27;reg:logistic&#x27;,\n",
       "              predictor=&#x27;auto&#x27;, random_state=30, reg_alpha=0, ...)</pre><b>In a Jupyter environment, please rerun this cell to show the HTML representation or trust the notebook. <br />On GitHub, the HTML representation is unable to render, please try loading this page with nbviewer.org.</b></div><div class=\"sk-container\" hidden><div class=\"sk-item\"><div class=\"sk-estimator sk-toggleable\"><input class=\"sk-toggleable__control sk-hidden--visually\" id=\"sk-estimator-id-6\" type=\"checkbox\" checked><label for=\"sk-estimator-id-6\" class=\"sk-toggleable__label sk-toggleable__label-arrow\">XGBClassifier</label><div class=\"sk-toggleable__content\"><pre>XGBClassifier(base_score=0.5, booster=&#x27;gbtree&#x27;, callbacks=None,\n",
       "              colsample_bylevel=1, colsample_bynode=1, colsample_bytree=0.8,\n",
       "              early_stopping_rounds=None, enable_categorical=False,\n",
       "              eval_metric=None, gamma=0.3, gpu_id=-1, grow_policy=&#x27;depthwise&#x27;,\n",
       "              importance_type=None, interaction_constraints=&#x27;&#x27;,\n",
       "              learning_rate=0.01, max_bin=256, max_cat_to_onehot=4,\n",
       "              max_delta_step=0, max_depth=25, max_leaves=0, min_child_weight=1,\n",
       "              missing=nan, monotone_constraints=&#x27;()&#x27;, n_estimators=1000,\n",
       "              n_jobs=0, num_parallel_tree=1, objective=&#x27;reg:logistic&#x27;,\n",
       "              predictor=&#x27;auto&#x27;, random_state=30, reg_alpha=0, ...)</pre></div></div></div></div></div>"
      ],
      "text/plain": [
       "XGBClassifier(base_score=0.5, booster='gbtree', callbacks=None,\n",
       "              colsample_bylevel=1, colsample_bynode=1, colsample_bytree=0.8,\n",
       "              early_stopping_rounds=None, enable_categorical=False,\n",
       "              eval_metric=None, gamma=0.3, gpu_id=-1, grow_policy='depthwise',\n",
       "              importance_type=None, interaction_constraints='',\n",
       "              learning_rate=0.01, max_bin=256, max_cat_to_onehot=4,\n",
       "              max_delta_step=0, max_depth=25, max_leaves=0, min_child_weight=1,\n",
       "              missing=nan, monotone_constraints='()', n_estimators=1000,\n",
       "              n_jobs=0, num_parallel_tree=1, objective='reg:logistic',\n",
       "              predictor='auto', random_state=30, reg_alpha=0, ...)"
      ]
     },
     "execution_count": 92,
     "metadata": {},
     "output_type": "execute_result"
    }
   ],
   "source": [
    "xgb_model = XGBClassifier(n_estimators=1000,\n",
    "                          max_depth=25,\n",
    "                          learning_rate=0.01,\n",
    "                          subsample=1,\n",
    "                          colsample_bytree=0.8,\n",
    "                          gamma=0.3,\n",
    "                          objective=\"reg:logistic\",\n",
    "                          random_state=30)\n",
    "\n",
    "xgb_model.fit(x_train, y_train)"
   ]
  },
  {
   "cell_type": "code",
   "execution_count": 93,
   "metadata": {},
   "outputs": [
    {
     "name": "stdout",
     "output_type": "stream",
     "text": [
      "Accuracy: 0.6644423260247855\n",
      "Precisión: 0.6709470304975923\n",
      "Recall: 0.7398230088495575\n",
      "F1-Score: 0.7037037037037037\n"
     ]
    }
   ],
   "source": [
    "xgb_predictions = xgb_model.predict(np.array(x_test))\n",
    "ds_resultados=pd.DataFrame(zip(y_test, xgb_predictions),columns=['test','pred'])\n",
    "\n",
    "#Observamos accuracy del modelo\n",
    "accuracy = accuracy_score(y_test, xgb_predictions)\n",
    "print(\"Accuracy:\", accuracy)\n",
    "\n",
    "#Observamos la precision del modelo\n",
    "precision = precision_score(y_test, xgb_predictions)\n",
    "print(\"Precisión:\", precision)\n",
    "\n",
    "#Observamos el recall del modelo\n",
    "recall = recall_score(y_test, xgb_predictions)\n",
    "print(\"Recall:\", recall)\n",
    "\n",
    "#Observamos el F1 Score de este arbol\n",
    "f1 = f1_score(y_test, xgb_predictions)\n",
    "print(\"F1-Score:\", f1)"
   ]
  },
  {
   "cell_type": "markdown",
   "metadata": {},
   "source": [
    "Graficamos la tabla de confusion"
   ]
  },
  {
   "cell_type": "code",
   "execution_count": 107,
   "metadata": {},
   "outputs": [
    {
     "data": {
      "text/plain": [
       "Text(12.444444444444445, 0.5, 'True')"
      ]
     },
     "execution_count": 107,
     "metadata": {},
     "output_type": "execute_result"
    }
   ],
   "source": [
    "tabla=confusion_matrix(y_test, xgb_predictions)\n",
    "\n",
    "#Grafico la matriz de confusión\n",
    "sns.heatmap(tabla,cmap='GnBu',annot=True,fmt='g')\n",
    "plt.xlabel('Predicted')\n",
    "plt.ylabel('True')"
   ]
  },
  {
   "cell_type": "markdown",
   "metadata": {},
   "source": [
    "### LSTM"
   ]
  },
  {
   "cell_type": "code",
   "execution_count": 187,
   "metadata": {},
   "outputs": [],
   "source": [
    "#Volvemos a crear los datos de entrenamiento para modificarlos en secuencias para la red neuronal\n",
    "x_train, x_test, y_train, y_test = train_test_split(X_btc,\n",
    "                                                    y_btc,\n",
    "                                                    test_size=0.2,  \n",
    "                                                    random_state=70)"
   ]
  },
  {
   "cell_type": "code",
   "execution_count": 188,
   "metadata": {},
   "outputs": [
    {
     "name": "stdout",
     "output_type": "stream",
     "text": [
      "Dimensiones de y_train_seq: (4188,)\n",
      "Dimensiones de x_train_seq: (4188, 5, 10)\n"
     ]
    }
   ],
   "source": [
    "#Creamos las secuencias para el modelo\n",
    "window_size = 5  # Ventana de tiempo de una semana\n",
    "\n",
    "def create_sequences(data, window_size):\n",
    "    sequences = []\n",
    "    for i in range(len(data) - window_size):\n",
    "        sequences.append(data[i:i + window_size])\n",
    "    return np.array(sequences)\n",
    "\n",
    "x_train_seq = create_sequences(x_train, window_size)\n",
    "y_train_seq = y_train[window_size:]\n",
    "\n",
    "print(f\"Dimensiones de y_train_seq: {y_train_seq.shape}\")\n",
    "print(f\"Dimensiones de x_train_seq: {x_train_seq.shape}\")\n"
   ]
  },
  {
   "cell_type": "code",
   "execution_count": 189,
   "metadata": {},
   "outputs": [
    {
     "name": "stdout",
     "output_type": "stream",
     "text": [
      "Dimensiones de y_train_seq: (1044,)\n",
      "Dimensiones de x_train_seq: (1044, 5, 10)\n"
     ]
    }
   ],
   "source": [
    "x_test_seq = create_sequences(x_test, window_size)\n",
    "y_test_seq = y_test[window_size:]\n",
    "\n",
    "print(f\"Dimensiones de y_train_seq: {y_test_seq.shape}\")\n",
    "print(f\"Dimensiones de x_train_seq: {x_test_seq.shape}\")"
   ]
  },
  {
   "cell_type": "code",
   "execution_count": 192,
   "metadata": {},
   "outputs": [
    {
     "name": "stdout",
     "output_type": "stream",
     "text": [
      "Epoch 1/50\n",
      "184/184 [==============================] - 4s 8ms/step - loss: 0.6948 - accuracy: 0.5148 - val_loss: 0.6869 - val_accuracy: 0.5561\n",
      "Epoch 2/50\n",
      "184/184 [==============================] - 1s 5ms/step - loss: 0.6926 - accuracy: 0.5360 - val_loss: 0.6876 - val_accuracy: 0.5561\n",
      "Epoch 3/50\n",
      "184/184 [==============================] - 1s 5ms/step - loss: 0.6914 - accuracy: 0.5418 - val_loss: 0.6879 - val_accuracy: 0.5561\n",
      "Epoch 4/50\n",
      "184/184 [==============================] - 1s 5ms/step - loss: 0.6911 - accuracy: 0.5374 - val_loss: 0.6880 - val_accuracy: 0.5561\n",
      "Epoch 5/50\n",
      "184/184 [==============================] - 1s 5ms/step - loss: 0.6900 - accuracy: 0.5435 - val_loss: 0.6892 - val_accuracy: 0.5545\n",
      "Epoch 6/50\n",
      "184/184 [==============================] - 1s 5ms/step - loss: 0.6906 - accuracy: 0.5428 - val_loss: 0.6883 - val_accuracy: 0.5561\n",
      "Epoch 7/50\n",
      "184/184 [==============================] - 1s 5ms/step - loss: 0.6907 - accuracy: 0.5397 - val_loss: 0.6895 - val_accuracy: 0.5561\n",
      "Epoch 8/50\n",
      "184/184 [==============================] - 1s 5ms/step - loss: 0.6906 - accuracy: 0.5339 - val_loss: 0.6871 - val_accuracy: 0.5561\n",
      "Epoch 9/50\n",
      "184/184 [==============================] - 1s 5ms/step - loss: 0.6913 - accuracy: 0.5401 - val_loss: 0.6879 - val_accuracy: 0.5561\n",
      "Epoch 10/50\n",
      "184/184 [==============================] - 1s 5ms/step - loss: 0.6904 - accuracy: 0.5408 - val_loss: 0.6879 - val_accuracy: 0.5561\n",
      "Epoch 11/50\n",
      "184/184 [==============================] - 1s 6ms/step - loss: 0.6901 - accuracy: 0.5397 - val_loss: 0.6878 - val_accuracy: 0.5561\n",
      "Epoch 12/50\n",
      "184/184 [==============================] - 1s 6ms/step - loss: 0.6899 - accuracy: 0.5387 - val_loss: 0.6876 - val_accuracy: 0.5561\n",
      "Epoch 13/50\n",
      "184/184 [==============================] - 1s 5ms/step - loss: 0.6909 - accuracy: 0.5397 - val_loss: 0.6880 - val_accuracy: 0.5561\n",
      "Epoch 14/50\n",
      "184/184 [==============================] - 1s 6ms/step - loss: 0.6906 - accuracy: 0.5404 - val_loss: 0.6873 - val_accuracy: 0.5561\n",
      "Epoch 15/50\n",
      "184/184 [==============================] - 1s 5ms/step - loss: 0.6902 - accuracy: 0.5377 - val_loss: 0.6880 - val_accuracy: 0.5561\n",
      "Epoch 16/50\n",
      "184/184 [==============================] - 1s 5ms/step - loss: 0.6908 - accuracy: 0.5397 - val_loss: 0.6871 - val_accuracy: 0.5561\n",
      "Epoch 17/50\n",
      "184/184 [==============================] - 1s 5ms/step - loss: 0.6899 - accuracy: 0.5380 - val_loss: 0.6883 - val_accuracy: 0.5561\n",
      "Epoch 18/50\n",
      "184/184 [==============================] - 1s 6ms/step - loss: 0.6899 - accuracy: 0.5394 - val_loss: 0.6889 - val_accuracy: 0.5561\n",
      "Epoch 19/50\n",
      "184/184 [==============================] - 1s 6ms/step - loss: 0.6906 - accuracy: 0.5394 - val_loss: 0.6881 - val_accuracy: 0.5561\n",
      "Epoch 20/50\n",
      "184/184 [==============================] - 1s 5ms/step - loss: 0.6902 - accuracy: 0.5401 - val_loss: 0.6878 - val_accuracy: 0.5561\n",
      "Epoch 21/50\n",
      "184/184 [==============================] - 1s 5ms/step - loss: 0.6902 - accuracy: 0.5404 - val_loss: 0.6886 - val_accuracy: 0.5561\n",
      "Epoch 22/50\n",
      "184/184 [==============================] - 1s 6ms/step - loss: 0.6903 - accuracy: 0.5397 - val_loss: 0.6874 - val_accuracy: 0.5561\n",
      "Epoch 23/50\n",
      "184/184 [==============================] - 1s 5ms/step - loss: 0.6901 - accuracy: 0.5394 - val_loss: 0.6883 - val_accuracy: 0.5561\n",
      "Epoch 24/50\n",
      "184/184 [==============================] - 1s 6ms/step - loss: 0.6901 - accuracy: 0.5391 - val_loss: 0.6889 - val_accuracy: 0.5561\n",
      "Epoch 25/50\n",
      "184/184 [==============================] - 1s 5ms/step - loss: 0.6904 - accuracy: 0.5421 - val_loss: 0.6880 - val_accuracy: 0.5561\n",
      "Epoch 26/50\n",
      "184/184 [==============================] - 1s 5ms/step - loss: 0.6902 - accuracy: 0.5401 - val_loss: 0.6878 - val_accuracy: 0.5561\n",
      "Epoch 27/50\n",
      "184/184 [==============================] - 1s 5ms/step - loss: 0.6903 - accuracy: 0.5394 - val_loss: 0.6880 - val_accuracy: 0.5561\n",
      "Epoch 28/50\n",
      "184/184 [==============================] - 1s 5ms/step - loss: 0.6898 - accuracy: 0.5397 - val_loss: 0.6870 - val_accuracy: 0.5561\n",
      "Epoch 29/50\n",
      "184/184 [==============================] - 1s 5ms/step - loss: 0.6902 - accuracy: 0.5408 - val_loss: 0.6884 - val_accuracy: 0.5561\n",
      "Epoch 30/50\n",
      "184/184 [==============================] - 1s 6ms/step - loss: 0.6903 - accuracy: 0.5401 - val_loss: 0.6885 - val_accuracy: 0.5561\n",
      "Epoch 31/50\n",
      "184/184 [==============================] - 1s 5ms/step - loss: 0.6901 - accuracy: 0.5401 - val_loss: 0.6881 - val_accuracy: 0.5561\n",
      "Epoch 32/50\n",
      "184/184 [==============================] - 1s 5ms/step - loss: 0.6902 - accuracy: 0.5401 - val_loss: 0.6887 - val_accuracy: 0.5561\n",
      "Epoch 33/50\n",
      "184/184 [==============================] - 1s 5ms/step - loss: 0.6899 - accuracy: 0.5404 - val_loss: 0.6890 - val_accuracy: 0.5561\n",
      "Epoch 34/50\n",
      "184/184 [==============================] - 1s 5ms/step - loss: 0.6907 - accuracy: 0.5387 - val_loss: 0.6862 - val_accuracy: 0.5561\n",
      "Epoch 35/50\n",
      "184/184 [==============================] - 1s 5ms/step - loss: 0.6895 - accuracy: 0.5404 - val_loss: 0.6902 - val_accuracy: 0.5505\n",
      "Epoch 36/50\n",
      "184/184 [==============================] - 1s 5ms/step - loss: 0.6901 - accuracy: 0.5411 - val_loss: 0.6884 - val_accuracy: 0.5537\n",
      "Epoch 37/50\n",
      "184/184 [==============================] - 1s 6ms/step - loss: 0.6902 - accuracy: 0.5394 - val_loss: 0.6879 - val_accuracy: 0.5553\n",
      "Epoch 38/50\n",
      "184/184 [==============================] - 1s 6ms/step - loss: 0.6897 - accuracy: 0.5421 - val_loss: 0.6884 - val_accuracy: 0.5561\n",
      "Epoch 39/50\n",
      "184/184 [==============================] - 1s 5ms/step - loss: 0.6908 - accuracy: 0.5367 - val_loss: 0.6893 - val_accuracy: 0.5561\n",
      "Epoch 40/50\n",
      "184/184 [==============================] - 1s 5ms/step - loss: 0.6902 - accuracy: 0.5404 - val_loss: 0.6882 - val_accuracy: 0.5561\n",
      "Epoch 41/50\n",
      "184/184 [==============================] - 1s 5ms/step - loss: 0.6896 - accuracy: 0.5401 - val_loss: 0.6883 - val_accuracy: 0.5561\n",
      "Epoch 42/50\n",
      "184/184 [==============================] - 1s 5ms/step - loss: 0.6895 - accuracy: 0.5384 - val_loss: 0.6872 - val_accuracy: 0.5561\n",
      "Epoch 43/50\n",
      "184/184 [==============================] - 1s 5ms/step - loss: 0.6899 - accuracy: 0.5397 - val_loss: 0.6876 - val_accuracy: 0.5545\n",
      "Epoch 44/50\n",
      "184/184 [==============================] - 1s 5ms/step - loss: 0.6894 - accuracy: 0.5408 - val_loss: 0.6876 - val_accuracy: 0.5537\n",
      "Epoch 45/50\n",
      "184/184 [==============================] - 1s 5ms/step - loss: 0.6898 - accuracy: 0.5384 - val_loss: 0.6888 - val_accuracy: 0.5513\n",
      "Epoch 46/50\n",
      "184/184 [==============================] - 1s 5ms/step - loss: 0.6894 - accuracy: 0.5391 - val_loss: 0.6876 - val_accuracy: 0.5529\n",
      "Epoch 47/50\n",
      "184/184 [==============================] - 1s 6ms/step - loss: 0.6891 - accuracy: 0.5408 - val_loss: 0.6919 - val_accuracy: 0.5211\n",
      "Epoch 48/50\n",
      "184/184 [==============================] - 1s 6ms/step - loss: 0.6892 - accuracy: 0.5363 - val_loss: 0.6853 - val_accuracy: 0.5561\n",
      "Epoch 49/50\n",
      "184/184 [==============================] - 1s 5ms/step - loss: 0.6903 - accuracy: 0.5387 - val_loss: 0.6863 - val_accuracy: 0.5569\n",
      "Epoch 50/50\n",
      "184/184 [==============================] - 1s 5ms/step - loss: 0.6899 - accuracy: 0.5425 - val_loss: 0.6875 - val_accuracy: 0.5537\n"
     ]
    }
   ],
   "source": [
    "model = Sequential([\n",
    "    LSTM(100, return_sequences=True, input_shape=(x_train_seq.shape[1], x_train_seq.shape[2])),\n",
    "    Dropout(0.2),\n",
    "    LSTM(50, return_sequences=False),\n",
    "    Dropout(0.2),\n",
    "    Dense(25, activation='relu'),\n",
    "    Dense(1, activation='sigmoid')\n",
    "])\n",
    "\n",
    "model.compile(optimizer='adam', loss='binary_crossentropy', metrics=['accuracy'])\n",
    "\n",
    "history = model.fit(\n",
    "    x_train_seq, y_train_seq,\n",
    "    epochs=50,\n",
    "    batch_size=16,\n",
    "    validation_split=0.3,\n",
    "    verbose=1\n",
    ")\n"
   ]
  },
  {
   "cell_type": "code",
   "execution_count": 193,
   "metadata": {},
   "outputs": [
    {
     "name": "stdout",
     "output_type": "stream",
     "text": [
      "33/33 [==============================] - 0s 2ms/step\n",
      "Accuracy: 0.5325670498084292\n",
      "Precisión: 0.5351976856316297\n",
      "Recall: 0.9893048128342246\n",
      "F1-Score: 0.6946182728410512\n"
     ]
    }
   ],
   "source": [
    "predicciones = model.predict(x_test_seq)\n",
    "\n",
    "umbral = 0.5\n",
    "predicciones = [1 if p > umbral else 0 for p in predicciones]\n",
    "\n",
    "accuracy = accuracy_score(y_test_seq, predicciones)\n",
    "precision = precision_score(y_test_seq, predicciones)\n",
    "recall = recall_score(y_test_seq, predicciones)\n",
    "f1 = f1_score(y_test_seq, predicciones)\n",
    "\n",
    "print(\"Accuracy:\", accuracy)\n",
    "print(\"Precisión:\", precision)\n",
    "print(\"Recall:\", recall)\n",
    "print(\"F1-Score:\", f1)"
   ]
  },
  {
   "cell_type": "code",
   "execution_count": 194,
   "metadata": {},
   "outputs": [],
   "source": [
    "# Gráfico de pérdida\n",
    "plt.plot(history.history['loss'], label='Pérdida de entrenamiento')\n",
    "plt.plot(history.history['val_loss'], label='Pérdida de validación')\n",
    "plt.legend()\n",
    "plt.show()\n",
    "\n",
    "# Gráfico de precisión\n",
    "plt.plot(history.history['accuracy'], label='Precisión de entrenamiento')\n",
    "plt.plot(history.history['val_accuracy'], label='Precisión de validación')\n",
    "plt.legend()\n",
    "plt.show()\n"
   ]
  }
 ],
 "metadata": {
  "kernelspec": {
   "display_name": "Python 3",
   "language": "python",
   "name": "python3"
  },
  "language_info": {
   "codemirror_mode": {
    "name": "ipython",
    "version": 3
   },
   "file_extension": ".py",
   "mimetype": "text/x-python",
   "name": "python",
   "nbconvert_exporter": "python",
   "pygments_lexer": "ipython3",
   "version": "3.10.12"
  }
 },
 "nbformat": 4,
 "nbformat_minor": 2
}
